{
 "cells": [
  {
   "cell_type": "markdown",
   "metadata": {},
   "source": [
    "# Predicting Student Outcomes with Machine Learning\n",
    "Author: Elijah Lopez"
   ]
  },
  {
   "cell_type": "markdown",
   "metadata": {},
   "source": [
    "## Introduction\n",
    "This notebook is a continuation of work from [Student Outcomes EDA](student_outcomes.ipynb) where I explored the content of this data which obtained from UCI Machine Learning Repository. This data tracks\n",
    "~4,400 students and measures both demographic information from the student and their parents as well as performance by unit counts for semesters 1 and 2 and records their outcome as either 'Dropout', 'Enrolled', or 'Graduate'. There are many data types which will need to be treated as follows:\n",
    "* Numeric features - Compare standard scaling and min/max scaling\n",
    "* Binary features - Leave as is\n",
    "* Cardinal features - Utilize target encoding\n",
    "* Ordinal features - Rank and reorder label types to be more logical\n",
    "* Other categorical - Utilize one hot encoding\n",
    "\n",
    "Because the data exhibits a class imbalance (skewed toward Graduates) I will also resample the data."
   ]
  },
  {
   "cell_type": "code",
   "execution_count": 182,
   "metadata": {},
   "outputs": [],
   "source": [
    "# Standard Data Science/Analysis Toolkit\n",
    "import pandas as pd\n",
    "import numpy as np\n",
    "import matplotlib.pyplot as plt; plt.style.use(\"ggplot\")\n",
    "import seaborn as sns\n",
    "import category_encoders as ce\n",
    "\n",
    "# Machine Learning Tools, Utilities, and Scoring Metrics\n",
    "from imblearn.over_sampling import SMOTE\n",
    "from sklearn.preprocessing import StandardScaler, MinMaxScaler\n",
    "from sklearn.decomposition import PCA\n",
    "from sklearn.discriminant_analysis import LinearDiscriminantAnalysis as LDA\n",
    "from sklearn.model_selection import train_test_split, StratifiedKFold, GridSearchCV, cross_val_score, RepeatedKFold, KFold\n",
    "from sklearn.metrics import classification_report, confusion_matrix, ConfusionMatrixDisplay, accuracy_score, f1_score, mean_squared_error, r2_score, explained_variance_score\n",
    "from sklearn.feature_selection import SelectFromModel\n",
    "from sklearn.pipeline import Pipeline\n",
    "\n",
    "# Suite of Machine Learning Algorithms\n",
    "from sklearn.neighbors import KNeighborsClassifier\n",
    "from sklearn.svm import SVC, SVR\n",
    "from sklearn.tree import DecisionTreeClassifier, DecisionTreeRegressor\n",
    "from sklearn.naive_bayes import GaussianNB\n",
    "from sklearn.linear_model import LinearRegression, LogisticRegression, Ridge\n",
    "from sklearn.ensemble import RandomForestClassifier, GradientBoostingClassifier\n",
    "from xgboost import XGBClassifier, XGBRegressor\n",
    "\n",
    "# Measure time and memory usage\n",
    "import time\n",
    "import psutil\n",
    "import os\n",
    "\n",
    "# Setup to Ignore Version Errors and Deprecations\n",
    "import warnings\n",
    "warnings.filterwarnings(\"ignore\")"
   ]
  },
  {
   "cell_type": "code",
   "execution_count": 121,
   "metadata": {},
   "outputs": [
    {
     "data": {
      "text/html": [
       "<div>\n",
       "<style scoped>\n",
       "    .dataframe tbody tr th:only-of-type {\n",
       "        vertical-align: middle;\n",
       "    }\n",
       "\n",
       "    .dataframe tbody tr th {\n",
       "        vertical-align: top;\n",
       "    }\n",
       "\n",
       "    .dataframe thead th {\n",
       "        text-align: right;\n",
       "    }\n",
       "</style>\n",
       "<table border=\"1\" class=\"dataframe\">\n",
       "  <thead>\n",
       "    <tr style=\"text-align: right;\">\n",
       "      <th></th>\n",
       "      <th>marital_status</th>\n",
       "      <th>application_mode</th>\n",
       "      <th>application_order</th>\n",
       "      <th>course</th>\n",
       "      <th>class_time</th>\n",
       "      <th>prev_qual</th>\n",
       "      <th>prev_grade</th>\n",
       "      <th>nationality</th>\n",
       "      <th>mother_qual</th>\n",
       "      <th>father_qual</th>\n",
       "      <th>mother_occ</th>\n",
       "      <th>father_occ</th>\n",
       "      <th>admission_grade</th>\n",
       "      <th>displaced</th>\n",
       "      <th>special_needs</th>\n",
       "      <th>debtor</th>\n",
       "      <th>tuition_current</th>\n",
       "      <th>gender</th>\n",
       "      <th>scholarship</th>\n",
       "      <th>age_enrolled</th>\n",
       "      <th>international</th>\n",
       "      <th>units_cred_1s</th>\n",
       "      <th>units_enr_1s</th>\n",
       "      <th>units_eval_1s</th>\n",
       "      <th>units_app_1s</th>\n",
       "      <th>units_grade_1s</th>\n",
       "      <th>units_no_eval_1s</th>\n",
       "      <th>units_cred_2s</th>\n",
       "      <th>units_enr_2s</th>\n",
       "      <th>units_eval_2s</th>\n",
       "      <th>units_app_2s</th>\n",
       "      <th>units_grade_2s</th>\n",
       "      <th>units_no_eval_2s</th>\n",
       "      <th>unemployment_rate</th>\n",
       "      <th>inflation_rate</th>\n",
       "      <th>gdp</th>\n",
       "      <th>target</th>\n",
       "    </tr>\n",
       "  </thead>\n",
       "  <tbody>\n",
       "    <tr>\n",
       "      <th>0</th>\n",
       "      <td>1</td>\n",
       "      <td>17</td>\n",
       "      <td>5</td>\n",
       "      <td>171</td>\n",
       "      <td>1</td>\n",
       "      <td>1</td>\n",
       "      <td>122.0</td>\n",
       "      <td>1</td>\n",
       "      <td>19</td>\n",
       "      <td>12</td>\n",
       "      <td>5</td>\n",
       "      <td>9</td>\n",
       "      <td>127.3</td>\n",
       "      <td>1</td>\n",
       "      <td>0</td>\n",
       "      <td>0</td>\n",
       "      <td>1</td>\n",
       "      <td>1</td>\n",
       "      <td>0</td>\n",
       "      <td>20</td>\n",
       "      <td>0</td>\n",
       "      <td>0</td>\n",
       "      <td>0</td>\n",
       "      <td>0</td>\n",
       "      <td>0</td>\n",
       "      <td>0.000000</td>\n",
       "      <td>0</td>\n",
       "      <td>0</td>\n",
       "      <td>0</td>\n",
       "      <td>0</td>\n",
       "      <td>0</td>\n",
       "      <td>0.000000</td>\n",
       "      <td>0</td>\n",
       "      <td>10.8</td>\n",
       "      <td>1.4</td>\n",
       "      <td>1.74</td>\n",
       "      <td>0</td>\n",
       "    </tr>\n",
       "    <tr>\n",
       "      <th>1</th>\n",
       "      <td>1</td>\n",
       "      <td>15</td>\n",
       "      <td>1</td>\n",
       "      <td>9254</td>\n",
       "      <td>1</td>\n",
       "      <td>1</td>\n",
       "      <td>160.0</td>\n",
       "      <td>1</td>\n",
       "      <td>1</td>\n",
       "      <td>3</td>\n",
       "      <td>3</td>\n",
       "      <td>3</td>\n",
       "      <td>142.5</td>\n",
       "      <td>1</td>\n",
       "      <td>0</td>\n",
       "      <td>0</td>\n",
       "      <td>0</td>\n",
       "      <td>1</td>\n",
       "      <td>0</td>\n",
       "      <td>19</td>\n",
       "      <td>0</td>\n",
       "      <td>0</td>\n",
       "      <td>6</td>\n",
       "      <td>6</td>\n",
       "      <td>6</td>\n",
       "      <td>14.000000</td>\n",
       "      <td>0</td>\n",
       "      <td>0</td>\n",
       "      <td>6</td>\n",
       "      <td>6</td>\n",
       "      <td>6</td>\n",
       "      <td>13.666667</td>\n",
       "      <td>0</td>\n",
       "      <td>13.9</td>\n",
       "      <td>-0.3</td>\n",
       "      <td>0.79</td>\n",
       "      <td>2</td>\n",
       "    </tr>\n",
       "    <tr>\n",
       "      <th>2</th>\n",
       "      <td>1</td>\n",
       "      <td>1</td>\n",
       "      <td>5</td>\n",
       "      <td>9070</td>\n",
       "      <td>1</td>\n",
       "      <td>1</td>\n",
       "      <td>122.0</td>\n",
       "      <td>1</td>\n",
       "      <td>37</td>\n",
       "      <td>37</td>\n",
       "      <td>9</td>\n",
       "      <td>9</td>\n",
       "      <td>124.8</td>\n",
       "      <td>1</td>\n",
       "      <td>0</td>\n",
       "      <td>0</td>\n",
       "      <td>0</td>\n",
       "      <td>1</td>\n",
       "      <td>0</td>\n",
       "      <td>19</td>\n",
       "      <td>0</td>\n",
       "      <td>0</td>\n",
       "      <td>6</td>\n",
       "      <td>0</td>\n",
       "      <td>0</td>\n",
       "      <td>0.000000</td>\n",
       "      <td>0</td>\n",
       "      <td>0</td>\n",
       "      <td>6</td>\n",
       "      <td>0</td>\n",
       "      <td>0</td>\n",
       "      <td>0.000000</td>\n",
       "      <td>0</td>\n",
       "      <td>10.8</td>\n",
       "      <td>1.4</td>\n",
       "      <td>1.74</td>\n",
       "      <td>0</td>\n",
       "    </tr>\n",
       "    <tr>\n",
       "      <th>3</th>\n",
       "      <td>1</td>\n",
       "      <td>17</td>\n",
       "      <td>2</td>\n",
       "      <td>9773</td>\n",
       "      <td>1</td>\n",
       "      <td>1</td>\n",
       "      <td>122.0</td>\n",
       "      <td>1</td>\n",
       "      <td>38</td>\n",
       "      <td>37</td>\n",
       "      <td>5</td>\n",
       "      <td>3</td>\n",
       "      <td>119.6</td>\n",
       "      <td>1</td>\n",
       "      <td>0</td>\n",
       "      <td>0</td>\n",
       "      <td>1</td>\n",
       "      <td>0</td>\n",
       "      <td>0</td>\n",
       "      <td>20</td>\n",
       "      <td>0</td>\n",
       "      <td>0</td>\n",
       "      <td>6</td>\n",
       "      <td>8</td>\n",
       "      <td>6</td>\n",
       "      <td>13.428571</td>\n",
       "      <td>0</td>\n",
       "      <td>0</td>\n",
       "      <td>6</td>\n",
       "      <td>10</td>\n",
       "      <td>5</td>\n",
       "      <td>12.400000</td>\n",
       "      <td>0</td>\n",
       "      <td>9.4</td>\n",
       "      <td>-0.8</td>\n",
       "      <td>-3.12</td>\n",
       "      <td>2</td>\n",
       "    </tr>\n",
       "    <tr>\n",
       "      <th>4</th>\n",
       "      <td>2</td>\n",
       "      <td>39</td>\n",
       "      <td>1</td>\n",
       "      <td>8014</td>\n",
       "      <td>0</td>\n",
       "      <td>1</td>\n",
       "      <td>100.0</td>\n",
       "      <td>1</td>\n",
       "      <td>37</td>\n",
       "      <td>38</td>\n",
       "      <td>9</td>\n",
       "      <td>9</td>\n",
       "      <td>141.5</td>\n",
       "      <td>0</td>\n",
       "      <td>0</td>\n",
       "      <td>0</td>\n",
       "      <td>1</td>\n",
       "      <td>0</td>\n",
       "      <td>0</td>\n",
       "      <td>45</td>\n",
       "      <td>0</td>\n",
       "      <td>0</td>\n",
       "      <td>6</td>\n",
       "      <td>9</td>\n",
       "      <td>5</td>\n",
       "      <td>12.333333</td>\n",
       "      <td>0</td>\n",
       "      <td>0</td>\n",
       "      <td>6</td>\n",
       "      <td>6</td>\n",
       "      <td>6</td>\n",
       "      <td>13.000000</td>\n",
       "      <td>0</td>\n",
       "      <td>13.9</td>\n",
       "      <td>-0.3</td>\n",
       "      <td>0.79</td>\n",
       "      <td>2</td>\n",
       "    </tr>\n",
       "  </tbody>\n",
       "</table>\n",
       "</div>"
      ],
      "text/plain": [
       "   marital_status  application_mode  application_order  course  class_time  \\\n",
       "0               1                17                  5     171           1   \n",
       "1               1                15                  1    9254           1   \n",
       "2               1                 1                  5    9070           1   \n",
       "3               1                17                  2    9773           1   \n",
       "4               2                39                  1    8014           0   \n",
       "\n",
       "   prev_qual  prev_grade  nationality  mother_qual  father_qual  mother_occ  \\\n",
       "0          1       122.0            1           19           12           5   \n",
       "1          1       160.0            1            1            3           3   \n",
       "2          1       122.0            1           37           37           9   \n",
       "3          1       122.0            1           38           37           5   \n",
       "4          1       100.0            1           37           38           9   \n",
       "\n",
       "   father_occ  admission_grade  displaced  special_needs  debtor  \\\n",
       "0           9            127.3          1              0       0   \n",
       "1           3            142.5          1              0       0   \n",
       "2           9            124.8          1              0       0   \n",
       "3           3            119.6          1              0       0   \n",
       "4           9            141.5          0              0       0   \n",
       "\n",
       "   tuition_current  gender  scholarship  age_enrolled  international  \\\n",
       "0                1       1            0            20              0   \n",
       "1                0       1            0            19              0   \n",
       "2                0       1            0            19              0   \n",
       "3                1       0            0            20              0   \n",
       "4                1       0            0            45              0   \n",
       "\n",
       "   units_cred_1s  units_enr_1s  units_eval_1s  units_app_1s  units_grade_1s  \\\n",
       "0              0             0              0             0        0.000000   \n",
       "1              0             6              6             6       14.000000   \n",
       "2              0             6              0             0        0.000000   \n",
       "3              0             6              8             6       13.428571   \n",
       "4              0             6              9             5       12.333333   \n",
       "\n",
       "   units_no_eval_1s  units_cred_2s  units_enr_2s  units_eval_2s  units_app_2s  \\\n",
       "0                 0              0             0              0             0   \n",
       "1                 0              0             6              6             6   \n",
       "2                 0              0             6              0             0   \n",
       "3                 0              0             6             10             5   \n",
       "4                 0              0             6              6             6   \n",
       "\n",
       "   units_grade_2s  units_no_eval_2s  unemployment_rate  inflation_rate   gdp  \\\n",
       "0        0.000000                 0               10.8             1.4  1.74   \n",
       "1       13.666667                 0               13.9            -0.3  0.79   \n",
       "2        0.000000                 0               10.8             1.4  1.74   \n",
       "3       12.400000                 0                9.4            -0.8 -3.12   \n",
       "4       13.000000                 0               13.9            -0.3  0.79   \n",
       "\n",
       "   target  \n",
       "0       0  \n",
       "1       2  \n",
       "2       0  \n",
       "3       2  \n",
       "4       2  "
      ]
     },
     "execution_count": 121,
     "metadata": {},
     "output_type": "execute_result"
    }
   ],
   "source": [
    "# Display all columns to get a feel for data structure and feature data\n",
    "pd.set_option('display.max_columns', None)\n",
    "\n",
    "df = pd.read_csv('data/cleaned_student_success.csv')\n",
    "df.head()"
   ]
  },
  {
   "cell_type": "markdown",
   "metadata": {},
   "source": [
    "It is imperative to split this data into a training group and a testing group so that I can be certain that the model only learns from the training set without data leakage."
   ]
  },
  {
   "cell_type": "code",
   "execution_count": 122,
   "metadata": {},
   "outputs": [],
   "source": [
    "TARGET = 'target'\n",
    "X, y = df.drop(columns=TARGET), df[TARGET]"
   ]
  },
  {
   "cell_type": "code",
   "execution_count": 123,
   "metadata": {},
   "outputs": [],
   "source": [
    "X_train, X_temp, y_train, y_temp = train_test_split(X, y,\n",
    "                                                    train_size=0.8,\n",
    "                                                    test_size=0.2,\n",
    "                                                    random_state=42)"
   ]
  },
  {
   "cell_type": "code",
   "execution_count": 124,
   "metadata": {},
   "outputs": [],
   "source": [
    "X_val, X_test, y_val, y_test = train_test_split(X_temp, y_temp,\n",
    "                                                train_size=0.5,\n",
    "                                                test_size=0.5,\n",
    "                                                random_state=42)\n"
   ]
  },
  {
   "cell_type": "code",
   "execution_count": 125,
   "metadata": {},
   "outputs": [
    {
     "data": {
      "text/plain": [
       "((3539, 36), (442, 36), (443, 36), (3539,), (442,), (443,))"
      ]
     },
     "execution_count": 125,
     "metadata": {},
     "output_type": "execute_result"
    }
   ],
   "source": [
    "# Check split worked as intended\n",
    "X_train.shape, X_val.shape, X_test.shape, y_train.shape, y_val.shape, y_test.shape"
   ]
  },
  {
   "cell_type": "markdown",
   "metadata": {},
   "source": [
    "This function is used to test multiple different classification models and reports the following performance metrics:\n",
    "* Accuracy (%)\n",
    "* Spread (std)\n",
    "* Train Time (s)\n",
    "* Memory Usage (MB)"
   ]
  },
  {
   "cell_type": "code",
   "execution_count": 126,
   "metadata": {},
   "outputs": [],
   "source": [
    "def test_classification_models(X_train, y_train):\n",
    "    # Adjustments\n",
    "    CV = 10\n",
    "    SCORING = 'accuracy'\n",
    "    \n",
    "    \n",
    "    # Define the models to be tested\n",
    "    models = {\n",
    "        \"Logistic Regression\": LogisticRegression(random_state=42),\n",
    "        \"K-Nearest Neighbors\": KNeighborsClassifier(),\n",
    "        \"Naive Bayes\": GaussianNB(),\n",
    "        \"Decision Tree\": DecisionTreeClassifier(random_state=42),\n",
    "        \"Random Forest\": RandomForestClassifier(random_state=42),\n",
    "        \"Gradient Boosting\": GradientBoostingClassifier(random_state=42),\n",
    "        \"XGBoost\": XGBClassifier(random_state=42),\n",
    "        \"Support Vector Machine\": SVC(random_state=42)\n",
    "    }\n",
    "    \n",
    "    # Initialize results dictionary to store metrics for each model\n",
    "    results = {\n",
    "        \"Model\": [],\n",
    "        \"Accuracy (%)\": [],\n",
    "        \"Spread (std)\": [],\n",
    "        \"Train Time (s)\": [],\n",
    "        \"Memory Usage (MB)\": []\n",
    "    }\n",
    "    \n",
    "    # Perform model evaluation for each model\n",
    "    for model_name, model in models.items():\n",
    "        # Measure training time\n",
    "        start_train_time = time.time()\n",
    "\n",
    "        # Perform k-fold cross-validation to evaluate the model on the training data\n",
    "        cv_scores = cross_val_score(model, X_train, y_train, cv=CV, scoring=SCORING)\n",
    "\n",
    "        end_train_time = time.time()\n",
    "        train_time = end_train_time - start_train_time\n",
    "\n",
    "        # Measure memory usage (in MB)\n",
    "        memory_usage = psutil.Process(os.getpid()).memory_info().rss / (1024 * 1024)\n",
    "        \n",
    "        # Store the metrics in the results dictionary\n",
    "        results[\"Model\"].append(model_name)\n",
    "        results[\"Accuracy (%)\"].append(round(np.mean(cv_scores) * 100, 2))\n",
    "        results[\"Spread (std)\"].append(round(np.std(cv_scores), 4))\n",
    "        results[\"Train Time (s)\"].append(round(train_time, 4))\n",
    "        results[\"Memory Usage (MB)\"].append(round(memory_usage, 0))\n",
    "        \n",
    "    # Create a DataFrame to display the results\n",
    "    results_df = pd.DataFrame(results)\n",
    "    \n",
    "    # Print the results\n",
    "    return results_df"
   ]
  },
  {
   "cell_type": "markdown",
   "metadata": {},
   "source": [
    "Preliminary results prior to any data preprocessing so that we can understand our baseline score."
   ]
  },
  {
   "cell_type": "code",
   "execution_count": 127,
   "metadata": {},
   "outputs": [
    {
     "data": {
      "text/html": [
       "<div>\n",
       "<style scoped>\n",
       "    .dataframe tbody tr th:only-of-type {\n",
       "        vertical-align: middle;\n",
       "    }\n",
       "\n",
       "    .dataframe tbody tr th {\n",
       "        vertical-align: top;\n",
       "    }\n",
       "\n",
       "    .dataframe thead th {\n",
       "        text-align: right;\n",
       "    }\n",
       "</style>\n",
       "<table border=\"1\" class=\"dataframe\">\n",
       "  <thead>\n",
       "    <tr style=\"text-align: right;\">\n",
       "      <th></th>\n",
       "      <th>Model</th>\n",
       "      <th>Accuracy (%)</th>\n",
       "      <th>Spread (std)</th>\n",
       "      <th>Train Time (s)</th>\n",
       "      <th>Memory Usage (MB)</th>\n",
       "    </tr>\n",
       "  </thead>\n",
       "  <tbody>\n",
       "    <tr>\n",
       "      <th>6</th>\n",
       "      <td>XGBoost</td>\n",
       "      <td>78.58</td>\n",
       "      <td>0.0225</td>\n",
       "      <td>4.2053</td>\n",
       "      <td>183.0</td>\n",
       "    </tr>\n",
       "    <tr>\n",
       "      <th>5</th>\n",
       "      <td>Gradient Boosting</td>\n",
       "      <td>78.27</td>\n",
       "      <td>0.0186</td>\n",
       "      <td>32.9179</td>\n",
       "      <td>176.0</td>\n",
       "    </tr>\n",
       "    <tr>\n",
       "      <th>4</th>\n",
       "      <td>Random Forest</td>\n",
       "      <td>77.37</td>\n",
       "      <td>0.0174</td>\n",
       "      <td>11.9283</td>\n",
       "      <td>172.0</td>\n",
       "    </tr>\n",
       "    <tr>\n",
       "      <th>2</th>\n",
       "      <td>Naive Bayes</td>\n",
       "      <td>68.75</td>\n",
       "      <td>0.0196</td>\n",
       "      <td>0.0824</td>\n",
       "      <td>190.0</td>\n",
       "    </tr>\n",
       "    <tr>\n",
       "      <th>0</th>\n",
       "      <td>Logistic Regression</td>\n",
       "      <td>68.72</td>\n",
       "      <td>0.0116</td>\n",
       "      <td>1.9046</td>\n",
       "      <td>189.0</td>\n",
       "    </tr>\n",
       "    <tr>\n",
       "      <th>3</th>\n",
       "      <td>Decision Tree</td>\n",
       "      <td>68.35</td>\n",
       "      <td>0.0273</td>\n",
       "      <td>0.6653</td>\n",
       "      <td>190.0</td>\n",
       "    </tr>\n",
       "    <tr>\n",
       "      <th>7</th>\n",
       "      <td>Support Vector Machine</td>\n",
       "      <td>50.18</td>\n",
       "      <td>0.0064</td>\n",
       "      <td>8.1391</td>\n",
       "      <td>191.0</td>\n",
       "    </tr>\n",
       "    <tr>\n",
       "      <th>1</th>\n",
       "      <td>K-Nearest Neighbors</td>\n",
       "      <td>NaN</td>\n",
       "      <td>NaN</td>\n",
       "      <td>0.0408</td>\n",
       "      <td>190.0</td>\n",
       "    </tr>\n",
       "  </tbody>\n",
       "</table>\n",
       "</div>"
      ],
      "text/plain": [
       "                    Model  Accuracy (%)  Spread (std)  Train Time (s)  \\\n",
       "6                 XGBoost         78.58        0.0225          4.2053   \n",
       "5       Gradient Boosting         78.27        0.0186         32.9179   \n",
       "4           Random Forest         77.37        0.0174         11.9283   \n",
       "2             Naive Bayes         68.75        0.0196          0.0824   \n",
       "0     Logistic Regression         68.72        0.0116          1.9046   \n",
       "3           Decision Tree         68.35        0.0273          0.6653   \n",
       "7  Support Vector Machine         50.18        0.0064          8.1391   \n",
       "1     K-Nearest Neighbors           NaN           NaN          0.0408   \n",
       "\n",
       "   Memory Usage (MB)  \n",
       "6              183.0  \n",
       "5              176.0  \n",
       "4              172.0  \n",
       "2              190.0  \n",
       "0              189.0  \n",
       "3              190.0  \n",
       "7              191.0  \n",
       "1              190.0  "
      ]
     },
     "execution_count": 127,
     "metadata": {},
     "output_type": "execute_result"
    }
   ],
   "source": [
    "baseline_no_preprocessing = test_classification_models(X_train, y_train)\n",
    "baseline_no_preprocessing.sort_values(['Accuracy (%)'], ascending=False)"
   ]
  },
  {
   "cell_type": "markdown",
   "metadata": {},
   "source": [
    "### Numeric Features - Scaling\n",
    "Compare Standard Scaling vs Min Max Scaling"
   ]
  },
  {
   "cell_type": "code",
   "execution_count": 128,
   "metadata": {},
   "outputs": [],
   "source": [
    "# Separate true numeric columns where it makes sense to scale\n",
    "num_cols = [\n",
    "    'prev_grade',\n",
    "    'admission_grade',\n",
    "    'age_enrolled',\n",
    "    'units_cred_1s',\n",
    "    'units_enr_1s',\n",
    "    'units_eval_1s',\n",
    "    'units_app_1s',\n",
    "    'units_grade_1s',\n",
    "    'units_no_eval_1s',\n",
    "    'units_cred_2s',\n",
    "    'units_enr_2s',\n",
    "    'units_eval_2s',\n",
    "    'units_app_2s',\n",
    "    'units_grade_2s',\n",
    "    'units_no_eval_2s',\n",
    "    'unemployment_rate',\n",
    "    'inflation_rate',\n",
    "    'gdp'\n",
    "]"
   ]
  },
  {
   "cell_type": "code",
   "execution_count": 129,
   "metadata": {},
   "outputs": [],
   "source": [
    "# Instantiate Standard Scaler and fit to X_train numeric columns\n",
    "standard_scaler = StandardScaler()\n",
    "X_train_stan_scaled = standard_scaler.fit_transform(X_train[num_cols])"
   ]
  },
  {
   "cell_type": "code",
   "execution_count": 130,
   "metadata": {},
   "outputs": [
    {
     "data": {
      "text/html": [
       "<div>\n",
       "<style scoped>\n",
       "    .dataframe tbody tr th:only-of-type {\n",
       "        vertical-align: middle;\n",
       "    }\n",
       "\n",
       "    .dataframe tbody tr th {\n",
       "        vertical-align: top;\n",
       "    }\n",
       "\n",
       "    .dataframe thead th {\n",
       "        text-align: right;\n",
       "    }\n",
       "</style>\n",
       "<table border=\"1\" class=\"dataframe\">\n",
       "  <thead>\n",
       "    <tr style=\"text-align: right;\">\n",
       "      <th></th>\n",
       "      <th>Model</th>\n",
       "      <th>Accuracy (%)</th>\n",
       "      <th>Spread (std)</th>\n",
       "      <th>Train Time (s)</th>\n",
       "      <th>Memory Usage (MB)</th>\n",
       "    </tr>\n",
       "  </thead>\n",
       "  <tbody>\n",
       "    <tr>\n",
       "      <th>4</th>\n",
       "      <td>Random Forest</td>\n",
       "      <td>74.94</td>\n",
       "      <td>0.0206</td>\n",
       "      <td>10.5397</td>\n",
       "      <td>174.0</td>\n",
       "    </tr>\n",
       "    <tr>\n",
       "      <th>5</th>\n",
       "      <td>Gradient Boosting</td>\n",
       "      <td>74.85</td>\n",
       "      <td>0.0215</td>\n",
       "      <td>25.0890</td>\n",
       "      <td>176.0</td>\n",
       "    </tr>\n",
       "    <tr>\n",
       "      <th>0</th>\n",
       "      <td>Logistic Regression</td>\n",
       "      <td>74.17</td>\n",
       "      <td>0.0147</td>\n",
       "      <td>0.5145</td>\n",
       "      <td>192.0</td>\n",
       "    </tr>\n",
       "    <tr>\n",
       "      <th>6</th>\n",
       "      <td>XGBoost</td>\n",
       "      <td>74.06</td>\n",
       "      <td>0.0200</td>\n",
       "      <td>2.7907</td>\n",
       "      <td>179.0</td>\n",
       "    </tr>\n",
       "    <tr>\n",
       "      <th>7</th>\n",
       "      <td>Support Vector Machine</td>\n",
       "      <td>74.00</td>\n",
       "      <td>0.0144</td>\n",
       "      <td>5.2544</td>\n",
       "      <td>185.0</td>\n",
       "    </tr>\n",
       "    <tr>\n",
       "      <th>1</th>\n",
       "      <td>K-Nearest Neighbors</td>\n",
       "      <td>69.88</td>\n",
       "      <td>0.0138</td>\n",
       "      <td>0.0727</td>\n",
       "      <td>192.0</td>\n",
       "    </tr>\n",
       "    <tr>\n",
       "      <th>2</th>\n",
       "      <td>Naive Bayes</td>\n",
       "      <td>68.52</td>\n",
       "      <td>0.0268</td>\n",
       "      <td>0.0522</td>\n",
       "      <td>193.0</td>\n",
       "    </tr>\n",
       "    <tr>\n",
       "      <th>3</th>\n",
       "      <td>Decision Tree</td>\n",
       "      <td>65.13</td>\n",
       "      <td>0.0271</td>\n",
       "      <td>0.4763</td>\n",
       "      <td>193.0</td>\n",
       "    </tr>\n",
       "  </tbody>\n",
       "</table>\n",
       "</div>"
      ],
      "text/plain": [
       "                    Model  Accuracy (%)  Spread (std)  Train Time (s)  \\\n",
       "4           Random Forest         74.94        0.0206         10.5397   \n",
       "5       Gradient Boosting         74.85        0.0215         25.0890   \n",
       "0     Logistic Regression         74.17        0.0147          0.5145   \n",
       "6                 XGBoost         74.06        0.0200          2.7907   \n",
       "7  Support Vector Machine         74.00        0.0144          5.2544   \n",
       "1     K-Nearest Neighbors         69.88        0.0138          0.0727   \n",
       "2             Naive Bayes         68.52        0.0268          0.0522   \n",
       "3           Decision Tree         65.13        0.0271          0.4763   \n",
       "\n",
       "   Memory Usage (MB)  \n",
       "4              174.0  \n",
       "5              176.0  \n",
       "0              192.0  \n",
       "6              179.0  \n",
       "7              185.0  \n",
       "1              192.0  \n",
       "2              193.0  \n",
       "3              193.0  "
      ]
     },
     "execution_count": 130,
     "metadata": {},
     "output_type": "execute_result"
    }
   ],
   "source": [
    "# Resuls of using Standard Scaler\n",
    "standard_scaled_baseline = test_classification_models(X_train_stan_scaled, y_train)\n",
    "standard_scaled_baseline.sort_values(['Accuracy (%)'], ascending=False)"
   ]
  },
  {
   "cell_type": "code",
   "execution_count": 131,
   "metadata": {},
   "outputs": [],
   "source": [
    "# Instantiate Standard Scaler and fit to X_train numerical columns\n",
    "min_max_scaler = MinMaxScaler()\n",
    "X_train_mm_scaled = min_max_scaler.fit_transform(X_train[num_cols])"
   ]
  },
  {
   "cell_type": "code",
   "execution_count": 132,
   "metadata": {},
   "outputs": [
    {
     "data": {
      "text/html": [
       "<div>\n",
       "<style scoped>\n",
       "    .dataframe tbody tr th:only-of-type {\n",
       "        vertical-align: middle;\n",
       "    }\n",
       "\n",
       "    .dataframe tbody tr th {\n",
       "        vertical-align: top;\n",
       "    }\n",
       "\n",
       "    .dataframe thead th {\n",
       "        text-align: right;\n",
       "    }\n",
       "</style>\n",
       "<table border=\"1\" class=\"dataframe\">\n",
       "  <thead>\n",
       "    <tr style=\"text-align: right;\">\n",
       "      <th></th>\n",
       "      <th>Model</th>\n",
       "      <th>Accuracy (%)</th>\n",
       "      <th>Spread (std)</th>\n",
       "      <th>Train Time (s)</th>\n",
       "      <th>Memory Usage (MB)</th>\n",
       "    </tr>\n",
       "  </thead>\n",
       "  <tbody>\n",
       "    <tr>\n",
       "      <th>4</th>\n",
       "      <td>Random Forest</td>\n",
       "      <td>75.02</td>\n",
       "      <td>0.0200</td>\n",
       "      <td>12.0178</td>\n",
       "      <td>174.0</td>\n",
       "    </tr>\n",
       "    <tr>\n",
       "      <th>5</th>\n",
       "      <td>Gradient Boosting</td>\n",
       "      <td>74.85</td>\n",
       "      <td>0.0222</td>\n",
       "      <td>25.8073</td>\n",
       "      <td>176.0</td>\n",
       "    </tr>\n",
       "    <tr>\n",
       "      <th>6</th>\n",
       "      <td>XGBoost</td>\n",
       "      <td>74.06</td>\n",
       "      <td>0.0200</td>\n",
       "      <td>4.0405</td>\n",
       "      <td>179.0</td>\n",
       "    </tr>\n",
       "    <tr>\n",
       "      <th>7</th>\n",
       "      <td>Support Vector Machine</td>\n",
       "      <td>73.66</td>\n",
       "      <td>0.0181</td>\n",
       "      <td>5.4177</td>\n",
       "      <td>177.0</td>\n",
       "    </tr>\n",
       "    <tr>\n",
       "      <th>0</th>\n",
       "      <td>Logistic Regression</td>\n",
       "      <td>73.24</td>\n",
       "      <td>0.0151</td>\n",
       "      <td>0.9620</td>\n",
       "      <td>175.0</td>\n",
       "    </tr>\n",
       "    <tr>\n",
       "      <th>1</th>\n",
       "      <td>K-Nearest Neighbors</td>\n",
       "      <td>69.65</td>\n",
       "      <td>0.0226</td>\n",
       "      <td>0.0978</td>\n",
       "      <td>175.0</td>\n",
       "    </tr>\n",
       "    <tr>\n",
       "      <th>2</th>\n",
       "      <td>Naive Bayes</td>\n",
       "      <td>68.52</td>\n",
       "      <td>0.0268</td>\n",
       "      <td>0.0667</td>\n",
       "      <td>176.0</td>\n",
       "    </tr>\n",
       "    <tr>\n",
       "      <th>3</th>\n",
       "      <td>Decision Tree</td>\n",
       "      <td>65.22</td>\n",
       "      <td>0.0263</td>\n",
       "      <td>0.6648</td>\n",
       "      <td>176.0</td>\n",
       "    </tr>\n",
       "  </tbody>\n",
       "</table>\n",
       "</div>"
      ],
      "text/plain": [
       "                    Model  Accuracy (%)  Spread (std)  Train Time (s)  \\\n",
       "4           Random Forest         75.02        0.0200         12.0178   \n",
       "5       Gradient Boosting         74.85        0.0222         25.8073   \n",
       "6                 XGBoost         74.06        0.0200          4.0405   \n",
       "7  Support Vector Machine         73.66        0.0181          5.4177   \n",
       "0     Logistic Regression         73.24        0.0151          0.9620   \n",
       "1     K-Nearest Neighbors         69.65        0.0226          0.0978   \n",
       "2             Naive Bayes         68.52        0.0268          0.0667   \n",
       "3           Decision Tree         65.22        0.0263          0.6648   \n",
       "\n",
       "   Memory Usage (MB)  \n",
       "4              174.0  \n",
       "5              176.0  \n",
       "6              179.0  \n",
       "7              177.0  \n",
       "0              175.0  \n",
       "1              175.0  \n",
       "2              176.0  \n",
       "3              176.0  "
      ]
     },
     "execution_count": 132,
     "metadata": {},
     "output_type": "execute_result"
    }
   ],
   "source": [
    "# Resuls of using Min Max Scaler\n",
    "min_max_scaled_baseline = test_classification_models(X_train_mm_scaled, y_train)\n",
    "min_max_scaled_baseline.sort_values(['Accuracy (%)'], ascending=False)"
   ]
  },
  {
   "cell_type": "markdown",
   "metadata": {},
   "source": [
    "Results:\n",
    "- XGBoost performed best with the original (unscaled) data with a accuracy of 78.58%.\n",
    "\n",
    "Further analysis will focus XGBoost to improve performance\n",
    "\n",
    "Score to Beat:\n",
    "* Accuracy (%): 78.58\n",
    "* Spread: 0.0225\n",
    "* Time (s): 3.9123\n",
    "* Memory (MB): 193.0"
   ]
  },
  {
   "cell_type": "code",
   "execution_count": 133,
   "metadata": {},
   "outputs": [],
   "source": [
    "# Simplify function so that I only test XGBoost\n",
    "\n",
    "def test_xgb_model(X_train, y_train):\n",
    "    # Adjustments\n",
    "    CV = 10\n",
    "    SCORING = 'accuracy'\n",
    "    \n",
    "    # Define classifier\n",
    "    model = XGBClassifier()\n",
    "    \n",
    "    # Initialize results dictionary to store metrics\n",
    "    results = {\n",
    "        \"Model\": [],\n",
    "        \"Accuracy (%)\": [],\n",
    "        \"Spread (std)\": [],\n",
    "        \"Train Time (s)\": [],\n",
    "        \"Memory Usage (MB)\": []\n",
    "    }\n",
    "    \n",
    "    # Measure training time\n",
    "    start_train_time = time.time()\n",
    "\n",
    "    # Perform k-fold cross-validation to evaluate the model on the training data\n",
    "    cv_scores = cross_val_score(model, X_train, y_train, cv=CV, scoring=SCORING)\n",
    "\n",
    "    end_train_time = time.time()\n",
    "    train_time = end_train_time - start_train_time\n",
    "\n",
    "    # Measure memory usage (in MB)\n",
    "    memory_usage = psutil.Process(os.getpid()).memory_info().rss / (1024 * 1024)\n",
    "\n",
    "    # Store the metrics in the results dictionary\n",
    "    results[\"Model\"].append(\"XGBoost\")\n",
    "    results[\"Accuracy (%)\"].append(round(np.mean(cv_scores) * 100, 2))\n",
    "    results[\"Spread (std)\"].append(round(np.std(cv_scores), 4))\n",
    "    results[\"Train Time (s)\"].append(round(train_time, 4))\n",
    "    results[\"Memory Usage (MB)\"].append(round(memory_usage, 0))\n",
    "    \n",
    "    # Create a DataFrame to display the results\n",
    "    xgb_results_df = pd.DataFrame(results)\n",
    "    \n",
    "    # Print the results\n",
    "    return xgb_results_df"
   ]
  },
  {
   "cell_type": "code",
   "execution_count": 134,
   "metadata": {},
   "outputs": [],
   "source": [
    "# Make a copy so that I don't alter the original training data\n",
    "xgb_X_train = X_train.copy()\n",
    "xgb_y_train = y_train.copy()\n",
    "\n",
    "xgb = XGBClassifier(random_state=42)"
   ]
  },
  {
   "cell_type": "markdown",
   "metadata": {},
   "source": [
    "### Cardinal Features - Target Encoding\n",
    "* course\n",
    "* nationality\n",
    "* marital_status"
   ]
  },
  {
   "cell_type": "code",
   "execution_count": 135,
   "metadata": {},
   "outputs": [],
   "source": [
    "cardinal_features = ['course', 'nationality', 'marital_status']\n",
    "target_encoder = ce.TargetEncoder(cols=cardinal_features)\n"
   ]
  },
  {
   "cell_type": "code",
   "execution_count": 136,
   "metadata": {},
   "outputs": [],
   "source": [
    "xgb_train_encoded = target_encoder.fit_transform(xgb_X_train, xgb_y_train)"
   ]
  },
  {
   "cell_type": "code",
   "execution_count": 137,
   "metadata": {},
   "outputs": [
    {
     "data": {
      "text/html": [
       "<div>\n",
       "<style scoped>\n",
       "    .dataframe tbody tr th:only-of-type {\n",
       "        vertical-align: middle;\n",
       "    }\n",
       "\n",
       "    .dataframe tbody tr th {\n",
       "        vertical-align: top;\n",
       "    }\n",
       "\n",
       "    .dataframe thead th {\n",
       "        text-align: right;\n",
       "    }\n",
       "</style>\n",
       "<table border=\"1\" class=\"dataframe\">\n",
       "  <thead>\n",
       "    <tr style=\"text-align: right;\">\n",
       "      <th></th>\n",
       "      <th>Model</th>\n",
       "      <th>Accuracy (%)</th>\n",
       "      <th>Spread (std)</th>\n",
       "      <th>Train Time (s)</th>\n",
       "      <th>Memory Usage (MB)</th>\n",
       "    </tr>\n",
       "  </thead>\n",
       "  <tbody>\n",
       "    <tr>\n",
       "      <th>0</th>\n",
       "      <td>XGBoost</td>\n",
       "      <td>77.85</td>\n",
       "      <td>0.0159</td>\n",
       "      <td>6.5221</td>\n",
       "      <td>190.0</td>\n",
       "    </tr>\n",
       "  </tbody>\n",
       "</table>\n",
       "</div>"
      ],
      "text/plain": [
       "     Model  Accuracy (%)  Spread (std)  Train Time (s)  Memory Usage (MB)\n",
       "0  XGBoost         77.85        0.0159          6.5221              190.0"
      ]
     },
     "execution_count": 137,
     "metadata": {},
     "output_type": "execute_result"
    }
   ],
   "source": [
    "test_xgb_model(xgb_train_encoded, xgb_y_train)"
   ]
  },
  {
   "cell_type": "markdown",
   "metadata": {},
   "source": [
    "It seems that Target encoding did not improve the XGB Model. We will continue with the original xgb_X_train data going forward"
   ]
  },
  {
   "cell_type": "markdown",
   "metadata": {},
   "source": [
    "### Ordinal Features - Rank and Order Logically\n",
    "* Application order - Keep as is\n",
    "* Mother's qualification - Remap to more logical order\n",
    "* Father's qualification - Remap to more logical order"
   ]
  },
  {
   "cell_type": "code",
   "execution_count": 138,
   "metadata": {},
   "outputs": [],
   "source": [
    "ordinal_features = ['mother_qual', 'father_qual']\n",
    "\n",
    "mother_father_qualification_mapping = {\n",
    "    35: 0,  # Can't read or write\n",
    "    36: 1,  # Can read without having a 4th year of schooling\n",
    "    37: 2,  # Basic education 1st cycle (4th/5th year) or equiv.\n",
    "    38: 3,  # Basic Education 2nd Cycle (6th/7th/8th Year) or Equiv.\n",
    "    11: 4,  # 7th Year (Old)\n",
    "    26: 5,  # 7th year of schooling\n",
    "    30: 6,  # 8th year of schooling\n",
    "    19: 7,  # Basic Education 3rd Cycle (9th/10th/11th Year) or Equiv.\n",
    "    27: 8,  # 2nd cycle of the general high school course\n",
    "    29: 9,  # 9th Year of Schooling - Not Completed\n",
    "    14: 10, # 10th Year of Schooling\n",
    "    10: 11, # 11th Year of Schooling - Not Completed\n",
    "    12: 12, # Other - 11th Year of Schooling\n",
    "    9: 13,  # 12th Year of Schooling - Not Completed\n",
    "    1: 14,  # Secondary Education - 12th Year of Schooling or Eq. \n",
    "    18: 15, # General commerce course\n",
    "    41: 16, # Specialized higher studies course\n",
    "    39: 17, # Technological specialization course\n",
    "    22: 18, # Technical-professional course\n",
    "    42: 19, # Professional higher technical course\n",
    "    40: 20, # Higher education - degree (1st cycle)\n",
    "    43: 21, # Higher Education - Master (2nd cycle)\n",
    "    2: 22,  # Higher Education - Bachelor's Degree\n",
    "    3: 23,  # Higher Education - Degree\n",
    "    4: 24,  # Higher Education - Master's\n",
    "    5: 25,  # Higher Education - Doctorate\n",
    "    44: 26, # Higher Education - Doctorate (3rd cycle)\n",
    "    6: 27,  # Frequency of Higher Education\n",
    "    34: 28, # Unknown\n",
    "}"
   ]
  },
  {
   "cell_type": "code",
   "execution_count": 139,
   "metadata": {},
   "outputs": [],
   "source": [
    "# Map dictionary to data in ordinal columns\n",
    "xgb_X_train_mapped = xgb_X_train.copy()\n",
    "for feature in ordinal_features:\n",
    "    xgb_X_train_mapped[feature] = xgb_X_train_mapped[feature].map(mother_father_qualification_mapping)\n",
    "    xgb_X_train_mapped[feature] = xgb_X_train_mapped[feature].map(mother_father_qualification_mapping).fillna(28)\n"
   ]
  },
  {
   "cell_type": "code",
   "execution_count": 140,
   "metadata": {},
   "outputs": [
    {
     "data": {
      "text/html": [
       "<div>\n",
       "<style scoped>\n",
       "    .dataframe tbody tr th:only-of-type {\n",
       "        vertical-align: middle;\n",
       "    }\n",
       "\n",
       "    .dataframe tbody tr th {\n",
       "        vertical-align: top;\n",
       "    }\n",
       "\n",
       "    .dataframe thead th {\n",
       "        text-align: right;\n",
       "    }\n",
       "</style>\n",
       "<table border=\"1\" class=\"dataframe\">\n",
       "  <thead>\n",
       "    <tr style=\"text-align: right;\">\n",
       "      <th></th>\n",
       "      <th>Model</th>\n",
       "      <th>Accuracy (%)</th>\n",
       "      <th>Spread (std)</th>\n",
       "      <th>Train Time (s)</th>\n",
       "      <th>Memory Usage (MB)</th>\n",
       "    </tr>\n",
       "  </thead>\n",
       "  <tbody>\n",
       "    <tr>\n",
       "      <th>0</th>\n",
       "      <td>XGBoost</td>\n",
       "      <td>77.65</td>\n",
       "      <td>0.0214</td>\n",
       "      <td>6.9315</td>\n",
       "      <td>185.0</td>\n",
       "    </tr>\n",
       "  </tbody>\n",
       "</table>\n",
       "</div>"
      ],
      "text/plain": [
       "     Model  Accuracy (%)  Spread (std)  Train Time (s)  Memory Usage (MB)\n",
       "0  XGBoost         77.65        0.0214          6.9315              185.0"
      ]
     },
     "execution_count": 140,
     "metadata": {},
     "output_type": "execute_result"
    }
   ],
   "source": [
    "test_xgb_model(xgb_X_train_mapped, xgb_y_train)"
   ]
  },
  {
   "cell_type": "markdown",
   "metadata": {},
   "source": [
    "It appears our original model is still slightly outperforming in terms of accuracy so I'll stick with that."
   ]
  },
  {
   "cell_type": "markdown",
   "metadata": {},
   "source": [
    "### Other Categorical Features - One Hot Encoding\n",
    "* Application mode\n",
    "* Previous qualification\n",
    "* Mother's occupation\n",
    "* Father's occupation"
   ]
  },
  {
   "cell_type": "code",
   "execution_count": 141,
   "metadata": {},
   "outputs": [],
   "source": [
    "ohe_features = ['application_mode', 'prev_qual', 'mother_occ', 'father_occ']"
   ]
  },
  {
   "cell_type": "code",
   "execution_count": 142,
   "metadata": {},
   "outputs": [
    {
     "data": {
      "text/plain": [
       "['marital_status',\n",
       " 'application_order',\n",
       " 'course',\n",
       " 'class_time',\n",
       " 'prev_grade',\n",
       " 'nationality',\n",
       " 'mother_qual',\n",
       " 'father_qual',\n",
       " 'admission_grade',\n",
       " 'displaced',\n",
       " 'special_needs',\n",
       " 'debtor',\n",
       " 'tuition_current',\n",
       " 'gender',\n",
       " 'scholarship',\n",
       " 'age_enrolled',\n",
       " 'international',\n",
       " 'units_cred_1s',\n",
       " 'units_enr_1s',\n",
       " 'units_eval_1s',\n",
       " 'units_app_1s',\n",
       " 'units_grade_1s',\n",
       " 'units_no_eval_1s',\n",
       " 'units_cred_2s',\n",
       " 'units_enr_2s',\n",
       " 'units_eval_2s',\n",
       " 'units_app_2s',\n",
       " 'units_grade_2s',\n",
       " 'units_no_eval_2s',\n",
       " 'unemployment_rate',\n",
       " 'inflation_rate',\n",
       " 'gdp',\n",
       " 'application_mode_2',\n",
       " 'application_mode_5',\n",
       " 'application_mode_7',\n",
       " 'application_mode_10',\n",
       " 'application_mode_15',\n",
       " 'application_mode_16',\n",
       " 'application_mode_17',\n",
       " 'application_mode_18',\n",
       " 'application_mode_26',\n",
       " 'application_mode_27',\n",
       " 'application_mode_39',\n",
       " 'application_mode_42',\n",
       " 'application_mode_43',\n",
       " 'application_mode_44',\n",
       " 'application_mode_51',\n",
       " 'application_mode_53',\n",
       " 'application_mode_57',\n",
       " 'prev_qual_2',\n",
       " 'prev_qual_3',\n",
       " 'prev_qual_4',\n",
       " 'prev_qual_5',\n",
       " 'prev_qual_6',\n",
       " 'prev_qual_9',\n",
       " 'prev_qual_10',\n",
       " 'prev_qual_12',\n",
       " 'prev_qual_14',\n",
       " 'prev_qual_15',\n",
       " 'prev_qual_19',\n",
       " 'prev_qual_38',\n",
       " 'prev_qual_39',\n",
       " 'prev_qual_40',\n",
       " 'prev_qual_42',\n",
       " 'prev_qual_43',\n",
       " 'mother_occ_1',\n",
       " 'mother_occ_2',\n",
       " 'mother_occ_3',\n",
       " 'mother_occ_4',\n",
       " 'mother_occ_5',\n",
       " 'mother_occ_6',\n",
       " 'mother_occ_7',\n",
       " 'mother_occ_8',\n",
       " 'mother_occ_9',\n",
       " 'mother_occ_10',\n",
       " 'mother_occ_90',\n",
       " 'mother_occ_99',\n",
       " 'mother_occ_122',\n",
       " 'mother_occ_123',\n",
       " 'mother_occ_125',\n",
       " 'mother_occ_131',\n",
       " 'mother_occ_132',\n",
       " 'mother_occ_134',\n",
       " 'mother_occ_141',\n",
       " 'mother_occ_143',\n",
       " 'mother_occ_144',\n",
       " 'mother_occ_151',\n",
       " 'mother_occ_152',\n",
       " 'mother_occ_153',\n",
       " 'mother_occ_171',\n",
       " 'mother_occ_173',\n",
       " 'mother_occ_175',\n",
       " 'mother_occ_191',\n",
       " 'mother_occ_192',\n",
       " 'mother_occ_193',\n",
       " 'mother_occ_194',\n",
       " 'father_occ_1',\n",
       " 'father_occ_2',\n",
       " 'father_occ_3',\n",
       " 'father_occ_4',\n",
       " 'father_occ_5',\n",
       " 'father_occ_6',\n",
       " 'father_occ_7',\n",
       " 'father_occ_8',\n",
       " 'father_occ_9',\n",
       " 'father_occ_10',\n",
       " 'father_occ_90',\n",
       " 'father_occ_99',\n",
       " 'father_occ_101',\n",
       " 'father_occ_102',\n",
       " 'father_occ_103',\n",
       " 'father_occ_112',\n",
       " 'father_occ_114',\n",
       " 'father_occ_121',\n",
       " 'father_occ_122',\n",
       " 'father_occ_123',\n",
       " 'father_occ_124',\n",
       " 'father_occ_131',\n",
       " 'father_occ_132',\n",
       " 'father_occ_134',\n",
       " 'father_occ_135',\n",
       " 'father_occ_141',\n",
       " 'father_occ_143',\n",
       " 'father_occ_144',\n",
       " 'father_occ_151',\n",
       " 'father_occ_152',\n",
       " 'father_occ_153',\n",
       " 'father_occ_154',\n",
       " 'father_occ_163',\n",
       " 'father_occ_171',\n",
       " 'father_occ_172',\n",
       " 'father_occ_174',\n",
       " 'father_occ_175',\n",
       " 'father_occ_181',\n",
       " 'father_occ_182',\n",
       " 'father_occ_183',\n",
       " 'father_occ_192',\n",
       " 'father_occ_193',\n",
       " 'father_occ_194',\n",
       " 'father_occ_195']"
      ]
     },
     "execution_count": 142,
     "metadata": {},
     "output_type": "execute_result"
    }
   ],
   "source": [
    "xgb_X_train_ohe = xgb_X_train.copy()\n",
    "xgb_X_train_ohe = pd.get_dummies(xgb_X_train_ohe, columns=ohe_features, drop_first=True)\n",
    "\n",
    "# Check to make sure dummies was applied correctly\n",
    "list(xgb_X_train_ohe.columns)"
   ]
  },
  {
   "cell_type": "code",
   "execution_count": 143,
   "metadata": {},
   "outputs": [
    {
     "data": {
      "text/plain": [
       "(3539, 36)"
      ]
     },
     "execution_count": 143,
     "metadata": {},
     "output_type": "execute_result"
    }
   ],
   "source": [
    "X_train.shape"
   ]
  },
  {
   "cell_type": "code",
   "execution_count": 144,
   "metadata": {},
   "outputs": [
    {
     "data": {
      "text/plain": [
       "(3539, 140)"
      ]
     },
     "execution_count": 144,
     "metadata": {},
     "output_type": "execute_result"
    }
   ],
   "source": [
    "# This expanded our feature columns from 35 + target to 139 + target\n",
    "xgb_X_train_ohe.shape"
   ]
  },
  {
   "cell_type": "code",
   "execution_count": 145,
   "metadata": {},
   "outputs": [
    {
     "data": {
      "text/html": [
       "<div>\n",
       "<style scoped>\n",
       "    .dataframe tbody tr th:only-of-type {\n",
       "        vertical-align: middle;\n",
       "    }\n",
       "\n",
       "    .dataframe tbody tr th {\n",
       "        vertical-align: top;\n",
       "    }\n",
       "\n",
       "    .dataframe thead th {\n",
       "        text-align: right;\n",
       "    }\n",
       "</style>\n",
       "<table border=\"1\" class=\"dataframe\">\n",
       "  <thead>\n",
       "    <tr style=\"text-align: right;\">\n",
       "      <th></th>\n",
       "      <th>Model</th>\n",
       "      <th>Accuracy (%)</th>\n",
       "      <th>Spread (std)</th>\n",
       "      <th>Train Time (s)</th>\n",
       "      <th>Memory Usage (MB)</th>\n",
       "    </tr>\n",
       "  </thead>\n",
       "  <tbody>\n",
       "    <tr>\n",
       "      <th>0</th>\n",
       "      <td>XGBoost</td>\n",
       "      <td>77.73</td>\n",
       "      <td>0.0219</td>\n",
       "      <td>13.6248</td>\n",
       "      <td>234.0</td>\n",
       "    </tr>\n",
       "  </tbody>\n",
       "</table>\n",
       "</div>"
      ],
      "text/plain": [
       "     Model  Accuracy (%)  Spread (std)  Train Time (s)  Memory Usage (MB)\n",
       "0  XGBoost         77.73        0.0219         13.6248              234.0"
      ]
     },
     "execution_count": 145,
     "metadata": {},
     "output_type": "execute_result"
    }
   ],
   "source": [
    "test_xgb_model(xgb_X_train_ohe, xgb_y_train)"
   ]
  },
  {
   "cell_type": "markdown",
   "metadata": {},
   "source": [
    "Accuracy has not improved and training time has increased substantailly. I'll stick with the previous model."
   ]
  },
  {
   "cell_type": "markdown",
   "metadata": {},
   "source": [
    "### Principal Component Analysis (PCA)"
   ]
  },
  {
   "cell_type": "code",
   "execution_count": 146,
   "metadata": {},
   "outputs": [],
   "source": [
    "# PCA can help reduce dimensionality of our feature space\n",
    "pca = PCA(0.90)\n",
    "\n",
    "xgb_X_train_pca = pca.fit_transform(xgb_X_train)\n",
    "xgb_X_train_pca = pd.DataFrame(xgb_X_train)"
   ]
  },
  {
   "cell_type": "code",
   "execution_count": 147,
   "metadata": {},
   "outputs": [
    {
     "data": {
      "text/html": [
       "<div>\n",
       "<style scoped>\n",
       "    .dataframe tbody tr th:only-of-type {\n",
       "        vertical-align: middle;\n",
       "    }\n",
       "\n",
       "    .dataframe tbody tr th {\n",
       "        vertical-align: top;\n",
       "    }\n",
       "\n",
       "    .dataframe thead th {\n",
       "        text-align: right;\n",
       "    }\n",
       "</style>\n",
       "<table border=\"1\" class=\"dataframe\">\n",
       "  <thead>\n",
       "    <tr style=\"text-align: right;\">\n",
       "      <th></th>\n",
       "      <th>Model</th>\n",
       "      <th>Accuracy (%)</th>\n",
       "      <th>Spread (std)</th>\n",
       "      <th>Train Time (s)</th>\n",
       "      <th>Memory Usage (MB)</th>\n",
       "    </tr>\n",
       "  </thead>\n",
       "  <tbody>\n",
       "    <tr>\n",
       "      <th>0</th>\n",
       "      <td>XGBoost</td>\n",
       "      <td>78.58</td>\n",
       "      <td>0.0225</td>\n",
       "      <td>6.8836</td>\n",
       "      <td>238.0</td>\n",
       "    </tr>\n",
       "  </tbody>\n",
       "</table>\n",
       "</div>"
      ],
      "text/plain": [
       "     Model  Accuracy (%)  Spread (std)  Train Time (s)  Memory Usage (MB)\n",
       "0  XGBoost         78.58        0.0225          6.8836              238.0"
      ]
     },
     "execution_count": 147,
     "metadata": {},
     "output_type": "execute_result"
    }
   ],
   "source": [
    "test_xgb_model(xgb_X_train_pca, xgb_y_train)"
   ]
  },
  {
   "cell_type": "code",
   "execution_count": 148,
   "metadata": {},
   "outputs": [],
   "source": [
    "# PCA can help reduce dimensionality of our feature space\n",
    "pca = PCA(0.95)\n",
    "\n",
    "xgb_X_train_pca = pca.fit_transform(xgb_X_train)\n",
    "xgb_X_train_pca = pd.DataFrame(xgb_X_train)"
   ]
  },
  {
   "cell_type": "code",
   "execution_count": 149,
   "metadata": {},
   "outputs": [
    {
     "data": {
      "text/html": [
       "<div>\n",
       "<style scoped>\n",
       "    .dataframe tbody tr th:only-of-type {\n",
       "        vertical-align: middle;\n",
       "    }\n",
       "\n",
       "    .dataframe tbody tr th {\n",
       "        vertical-align: top;\n",
       "    }\n",
       "\n",
       "    .dataframe thead th {\n",
       "        text-align: right;\n",
       "    }\n",
       "</style>\n",
       "<table border=\"1\" class=\"dataframe\">\n",
       "  <thead>\n",
       "    <tr style=\"text-align: right;\">\n",
       "      <th></th>\n",
       "      <th>Model</th>\n",
       "      <th>Accuracy (%)</th>\n",
       "      <th>Spread (std)</th>\n",
       "      <th>Train Time (s)</th>\n",
       "      <th>Memory Usage (MB)</th>\n",
       "    </tr>\n",
       "  </thead>\n",
       "  <tbody>\n",
       "    <tr>\n",
       "      <th>0</th>\n",
       "      <td>XGBoost</td>\n",
       "      <td>78.58</td>\n",
       "      <td>0.0225</td>\n",
       "      <td>6.8369</td>\n",
       "      <td>240.0</td>\n",
       "    </tr>\n",
       "  </tbody>\n",
       "</table>\n",
       "</div>"
      ],
      "text/plain": [
       "     Model  Accuracy (%)  Spread (std)  Train Time (s)  Memory Usage (MB)\n",
       "0  XGBoost         78.58        0.0225          6.8369              240.0"
      ]
     },
     "execution_count": 149,
     "metadata": {},
     "output_type": "execute_result"
    }
   ],
   "source": [
    "test_xgb_model(xgb_X_train_pca, xgb_y_train)"
   ]
  },
  {
   "cell_type": "markdown",
   "metadata": {},
   "source": [
    "In this case it seems to have only increased memory usage so I'll stick with the original data frame."
   ]
  },
  {
   "cell_type": "markdown",
   "metadata": {},
   "source": [
    "### Confusion Matrix - Visualize Model Performance"
   ]
  },
  {
   "cell_type": "code",
   "execution_count": 152,
   "metadata": {},
   "outputs": [
    {
     "data": {
      "image/png": "[encoded data removed]",
      "text/plain": [
       "<Figure size 800x600 with 2 Axes>"
      ]
     },
     "metadata": {},
     "output_type": "display_data"
    },
    {
     "name": "stdout",
     "output_type": "stream",
     "text": [
      "Confusion Matrix:\n",
      " [[122  19  20]\n",
      " [ 17  28  23]\n",
      " [  8   8 197]]\n"
     ]
    }
   ],
   "source": [
    "# Fit the xgb\n",
    "model = XGBClassifier()\n",
    "model.fit(xgb_X_train, xgb_y_train)\n",
    "\n",
    "# Predict the target values for X_test\n",
    "xgb_y_pred = model.predict(X_val)\n",
    "\n",
    "# Compute the confusion matrix\n",
    "cm = confusion_matrix(y_val, xgb_y_pred, labels=model.classes_)\n",
    "\n",
    "# Plot the confusion matrix using seaborn heatmap\n",
    "plt.figure(figsize=(8, 6))\n",
    "sns.heatmap(cm, annot=True, fmt='g', cmap='Blues', xticklabels=model.classes_, yticklabels=model.classes_)\n",
    "plt.title('Confusion Matrix for XGBoost Model')\n",
    "plt.xlabel('Predicted')\n",
    "plt.ylabel('Actual')\n",
    "plt.show()\n",
    "\n",
    "# Optionally, print the confusion matrix as text\n",
    "print(\"Confusion Matrix:\\n\", cm)"
   ]
  },
  {
   "cell_type": "code",
   "execution_count": 214,
   "metadata": {},
   "outputs": [
    {
     "name": "stdout",
     "output_type": "stream",
     "text": [
      "Accuracy: 78.51%\n"
     ]
    }
   ],
   "source": [
    "# Validation Accuracy without Modifications\n",
    "model.fit(xgb_X_train, xgb_y_train)\n",
    "xgb_y_pred = model.predict(X_val)\n",
    "accuracy = accuracy_score(y_val, xgb_y_pred)\n",
    "print(f\"Accuracy: {accuracy * 100:.2f}%\")"
   ]
  },
  {
   "cell_type": "markdown",
   "metadata": {},
   "source": [
    "### Resampling - SMOTE\n",
    "Because the model has a lot of false predictions for Graduates (which is the predominant class) we can attempt to fix this by resampling the data."
   ]
  },
  {
   "cell_type": "code",
   "execution_count": 200,
   "metadata": {},
   "outputs": [
    {
     "data": {
      "text/plain": [
       "((5373, 36), (5373,))"
      ]
     },
     "execution_count": 200,
     "metadata": {},
     "output_type": "execute_result"
    }
   ],
   "source": [
    "xgb_X_train_smote = xgb_X_train.copy()\n",
    "xgb_y_train_smote = xgb_y_train.copy()\n",
    "\n",
    "smote = SMOTE(random_state=42)\n",
    "\n",
    "xgb_X_train_smote, xgb_y_train_smote = smote.fit_resample(xgb_X_train_smote, xgb_y_train_smote)\n",
    "\n",
    "xgb_X_train_smote.shape, xgb_y_train_smote.shape"
   ]
  },
  {
   "cell_type": "code",
   "execution_count": 201,
   "metadata": {},
   "outputs": [
    {
     "data": {
      "text/html": [
       "<div>\n",
       "<style scoped>\n",
       "    .dataframe tbody tr th:only-of-type {\n",
       "        vertical-align: middle;\n",
       "    }\n",
       "\n",
       "    .dataframe tbody tr th {\n",
       "        vertical-align: top;\n",
       "    }\n",
       "\n",
       "    .dataframe thead th {\n",
       "        text-align: right;\n",
       "    }\n",
       "</style>\n",
       "<table border=\"1\" class=\"dataframe\">\n",
       "  <thead>\n",
       "    <tr style=\"text-align: right;\">\n",
       "      <th></th>\n",
       "      <th>Model</th>\n",
       "      <th>Accuracy (%)</th>\n",
       "      <th>Spread (std)</th>\n",
       "      <th>Train Time (s)</th>\n",
       "      <th>Memory Usage (MB)</th>\n",
       "    </tr>\n",
       "  </thead>\n",
       "  <tbody>\n",
       "    <tr>\n",
       "      <th>0</th>\n",
       "      <td>XGBoost</td>\n",
       "      <td>85.86</td>\n",
       "      <td>0.0592</td>\n",
       "      <td>5.4212</td>\n",
       "      <td>276.0</td>\n",
       "    </tr>\n",
       "  </tbody>\n",
       "</table>\n",
       "</div>"
      ],
      "text/plain": [
       "     Model  Accuracy (%)  Spread (std)  Train Time (s)  Memory Usage (MB)\n",
       "0  XGBoost         85.86        0.0592          5.4212              276.0"
      ]
     },
     "execution_count": 201,
     "metadata": {},
     "output_type": "execute_result"
    }
   ],
   "source": [
    "test_xgb_model(xgb_X_train_smote, xgb_y_train_smote)"
   ]
  },
  {
   "cell_type": "code",
   "execution_count": 216,
   "metadata": {},
   "outputs": [
    {
     "name": "stdout",
     "output_type": "stream",
     "text": [
      "Accuracy: 75.79%\n"
     ]
    }
   ],
   "source": [
    "model.fit(xgb_X_train_smote, xgb_y_train_smote)\n",
    "xgb_y_pred_smote = model.predict(X_val)\n",
    "accuracy = accuracy_score(y_val, xgb_y_pred_smote)\n",
    "print(f\"Accuracy: {accuracy * 100:.2f}%\")"
   ]
  },
  {
   "cell_type": "markdown",
   "metadata": {},
   "source": [
    "Interestingly, Training Accuracy improved to 85.86% but Validation testing is still flat at 75.79%. This is a clear sign of overfitting so I'll stick with the original data."
   ]
  },
  {
   "cell_type": "markdown",
   "metadata": {},
   "source": [
    "### Feature Importances - Minimize unneccessary noise"
   ]
  },
  {
   "cell_type": "code",
   "execution_count": 202,
   "metadata": {},
   "outputs": [
    {
     "data": {
      "text/plain": [
       "units_app_2s         0.211899\n",
       "tuition_current      0.114148\n",
       "units_enr_1s         0.071116\n",
       "units_app_1s         0.034519\n",
       "units_enr_2s         0.033537\n",
       "scholarship          0.031533\n",
       "units_eval_1s        0.028566\n",
       "units_eval_2s        0.025825\n",
       "units_cred_2s        0.024624\n",
       "course               0.024092\n",
       "debtor               0.023716\n",
       "units_no_eval_1s     0.022877\n",
       "units_cred_1s        0.019063\n",
       "mother_occ           0.018884\n",
       "age_enrolled         0.018226\n",
       "gdp                  0.018083\n",
       "units_grade_2s       0.017777\n",
       "application_mode     0.016126\n",
       "units_no_eval_2s     0.015868\n",
       "inflation_rate       0.015735\n",
       "application_order    0.015674\n",
       "units_grade_1s       0.015544\n",
       "prev_grade           0.015543\n",
       "unemployment_rate    0.015473\n",
       "admission_grade      0.015115\n",
       "gender               0.014734\n",
       "father_occ           0.014611\n",
       "nationality          0.014497\n",
       "father_qual          0.014291\n",
       "special_needs        0.013893\n",
       "mother_qual          0.013787\n",
       "prev_qual            0.013015\n",
       "marital_status       0.012935\n",
       "class_time           0.012453\n",
       "displaced            0.012222\n",
       "international        0.000000\n",
       "dtype: float32"
      ]
     },
     "execution_count": 202,
     "metadata": {},
     "output_type": "execute_result"
    }
   ],
   "source": [
    "xgb_feature_importances = pd.Series(model.feature_importances_, index=X.columns).sort_values(ascending=False)\n",
    "xgb_feature_importances"
   ]
  },
  {
   "cell_type": "code",
   "execution_count": 217,
   "metadata": {},
   "outputs": [
    {
     "data": {
      "text/html": [
       "<div>\n",
       "<style scoped>\n",
       "    .dataframe tbody tr th:only-of-type {\n",
       "        vertical-align: middle;\n",
       "    }\n",
       "\n",
       "    .dataframe tbody tr th {\n",
       "        vertical-align: top;\n",
       "    }\n",
       "\n",
       "    .dataframe thead th {\n",
       "        text-align: right;\n",
       "    }\n",
       "</style>\n",
       "<table border=\"1\" class=\"dataframe\">\n",
       "  <thead>\n",
       "    <tr style=\"text-align: right;\">\n",
       "      <th></th>\n",
       "      <th>Model</th>\n",
       "      <th>Accuracy (%)</th>\n",
       "      <th>Spread (std)</th>\n",
       "      <th>Train Time (s)</th>\n",
       "      <th>Memory Usage (MB)</th>\n",
       "    </tr>\n",
       "  </thead>\n",
       "  <tbody>\n",
       "    <tr>\n",
       "      <th>0</th>\n",
       "      <td>XGBoost</td>\n",
       "      <td>77.99</td>\n",
       "      <td>0.0245</td>\n",
       "      <td>4.325</td>\n",
       "      <td>164.0</td>\n",
       "    </tr>\n",
       "  </tbody>\n",
       "</table>\n",
       "</div>"
      ],
      "text/plain": [
       "     Model  Accuracy (%)  Spread (std)  Train Time (s)  Memory Usage (MB)\n",
       "0  XGBoost         77.99        0.0245           4.325              164.0"
      ]
     },
     "execution_count": 217,
     "metadata": {},
     "output_type": "execute_result"
    }
   ],
   "source": [
    "threshold = 0.01\n",
    "important_features = xgb_feature_importances[xgb_feature_importances > threshold].index.tolist()\n",
    "\n",
    "# Subset the original dataset to include only the important features\n",
    "xgb_X_train_reduced_01 = xgb_X_train[important_features]\n",
    "test_xgb_model(xgb_X_train_reduced_01, xgb_y_train)"
   ]
  },
  {
   "cell_type": "code",
   "execution_count": 218,
   "metadata": {},
   "outputs": [
    {
     "data": {
      "text/html": [
       "<div>\n",
       "<style scoped>\n",
       "    .dataframe tbody tr th:only-of-type {\n",
       "        vertical-align: middle;\n",
       "    }\n",
       "\n",
       "    .dataframe tbody tr th {\n",
       "        vertical-align: top;\n",
       "    }\n",
       "\n",
       "    .dataframe thead th {\n",
       "        text-align: right;\n",
       "    }\n",
       "</style>\n",
       "<table border=\"1\" class=\"dataframe\">\n",
       "  <thead>\n",
       "    <tr style=\"text-align: right;\">\n",
       "      <th></th>\n",
       "      <th>Model</th>\n",
       "      <th>Accuracy (%)</th>\n",
       "      <th>Spread (std)</th>\n",
       "      <th>Train Time (s)</th>\n",
       "      <th>Memory Usage (MB)</th>\n",
       "    </tr>\n",
       "  </thead>\n",
       "  <tbody>\n",
       "    <tr>\n",
       "      <th>0</th>\n",
       "      <td>XGBoost</td>\n",
       "      <td>74.23</td>\n",
       "      <td>0.0194</td>\n",
       "      <td>1.6703</td>\n",
       "      <td>164.0</td>\n",
       "    </tr>\n",
       "  </tbody>\n",
       "</table>\n",
       "</div>"
      ],
      "text/plain": [
       "     Model  Accuracy (%)  Spread (std)  Train Time (s)  Memory Usage (MB)\n",
       "0  XGBoost         74.23        0.0194          1.6703              164.0"
      ]
     },
     "execution_count": 218,
     "metadata": {},
     "output_type": "execute_result"
    }
   ],
   "source": [
    "threshold = 0.05\n",
    "important_features = xgb_feature_importances[xgb_feature_importances > threshold].index.tolist()\n",
    "\n",
    "# Subset the original dataset to include only the important features\n",
    "xgb_X_train_reduced_05 = xgb_X_train[important_features]\n",
    "test_xgb_model(xgb_X_train_reduced_05, xgb_y_train)"
   ]
  },
  {
   "cell_type": "code",
   "execution_count": 219,
   "metadata": {},
   "outputs": [
    {
     "data": {
      "text/html": [
       "<div>\n",
       "<style scoped>\n",
       "    .dataframe tbody tr th:only-of-type {\n",
       "        vertical-align: middle;\n",
       "    }\n",
       "\n",
       "    .dataframe tbody tr th {\n",
       "        vertical-align: top;\n",
       "    }\n",
       "\n",
       "    .dataframe thead th {\n",
       "        text-align: right;\n",
       "    }\n",
       "</style>\n",
       "<table border=\"1\" class=\"dataframe\">\n",
       "  <thead>\n",
       "    <tr style=\"text-align: right;\">\n",
       "      <th></th>\n",
       "      <th>Model</th>\n",
       "      <th>Accuracy (%)</th>\n",
       "      <th>Spread (std)</th>\n",
       "      <th>Train Time (s)</th>\n",
       "      <th>Memory Usage (MB)</th>\n",
       "    </tr>\n",
       "  </thead>\n",
       "  <tbody>\n",
       "    <tr>\n",
       "      <th>0</th>\n",
       "      <td>XGBoost</td>\n",
       "      <td>74.82</td>\n",
       "      <td>0.0157</td>\n",
       "      <td>2.1409</td>\n",
       "      <td>165.0</td>\n",
       "    </tr>\n",
       "  </tbody>\n",
       "</table>\n",
       "</div>"
      ],
      "text/plain": [
       "     Model  Accuracy (%)  Spread (std)  Train Time (s)  Memory Usage (MB)\n",
       "0  XGBoost         74.82        0.0157          2.1409              165.0"
      ]
     },
     "execution_count": 219,
     "metadata": {},
     "output_type": "execute_result"
    }
   ],
   "source": [
    "threshold = 0.025\n",
    "important_features = xgb_feature_importances[xgb_feature_importances > threshold].index.tolist()\n",
    "\n",
    "# Subset the original dataset to include only the important features\n",
    "xgb_X_train_reduced_025 = xgb_X_train[important_features]\n",
    "test_xgb_model(xgb_X_train_reduced_025, xgb_y_train)"
   ]
  },
  {
   "cell_type": "markdown",
   "metadata": {},
   "source": [
    "Including a predictive power threshold did not improve model performance."
   ]
  },
  {
   "cell_type": "markdown",
   "metadata": {},
   "source": [
    "### Hyperparameter Tuning - Grid Search Cross Validation"
   ]
  },
  {
   "cell_type": "code",
   "execution_count": 220,
   "metadata": {},
   "outputs": [],
   "source": [
    "# Create a list of hyperparameters and specified values to test\n",
    "param_grid = {\n",
    "    'n_estimators': [50, 100, 150, 200],\n",
    "    'max_depth': [3, 5, 7],\n",
    "    'subsample': [0.5, 0.7, 1],\n",
    "    'learning_rate': [0.1, 0.01, 0.001]\n",
    "    }"
   ]
  },
  {
   "cell_type": "code",
   "execution_count": 221,
   "metadata": {},
   "outputs": [
    {
     "data": {
      "text/html": [
       "<style>#sk-container-id-2 {color: black;}#sk-container-id-2 pre{padding: 0;}#sk-container-id-2 div.sk-toggleable {background-color: white;}#sk-container-id-2 label.sk-toggleable__label {cursor: pointer;display: block;width: 100%;margin-bottom: 0;padding: 0.3em;box-sizing: border-box;text-align: center;}#sk-container-id-2 label.sk-toggleable__label-arrow:before {content: \"▸\";float: left;margin-right: 0.25em;color: #696969;}#sk-container-id-2 label.sk-toggleable__label-arrow:hover:before {color: black;}#sk-container-id-2 div.sk-estimator:hover label.sk-toggleable__label-arrow:before {color: black;}#sk-container-id-2 div.sk-toggleable__content {max-height: 0;max-width: 0;overflow: hidden;text-align: left;background-color: #f0f8ff;}#sk-container-id-2 div.sk-toggleable__content pre {margin: 0.2em;color: black;border-radius: 0.25em;background-color: #f0f8ff;}#sk-container-id-2 input.sk-toggleable__control:checked~div.sk-toggleable__content {max-height: 200px;max-width: 100%;overflow: auto;}#sk-container-id-2 input.sk-toggleable__control:checked~label.sk-toggleable__label-arrow:before {content: \"▾\";}#sk-container-id-2 div.sk-estimator input.sk-toggleable__control:checked~label.sk-toggleable__label {background-color: #d4ebff;}#sk-container-id-2 div.sk-label input.sk-toggleable__control:checked~label.sk-toggleable__label {background-color: #d4ebff;}#sk-container-id-2 input.sk-hidden--visually {border: 0;clip: rect(1px 1px 1px 1px);clip: rect(1px, 1px, 1px, 1px);height: 1px;margin: -1px;overflow: hidden;padding: 0;position: absolute;width: 1px;}#sk-container-id-2 div.sk-estimator {font-family: monospace;background-color: #f0f8ff;border: 1px dotted black;border-radius: 0.25em;box-sizing: border-box;margin-bottom: 0.5em;}#sk-container-id-2 div.sk-estimator:hover {background-color: #d4ebff;}#sk-container-id-2 div.sk-parallel-item::after {content: \"\";width: 100%;border-bottom: 1px solid gray;flex-grow: 1;}#sk-container-id-2 div.sk-label:hover label.sk-toggleable__label {background-color: #d4ebff;}#sk-container-id-2 div.sk-serial::before {content: \"\";position: absolute;border-left: 1px solid gray;box-sizing: border-box;top: 0;bottom: 0;left: 50%;z-index: 0;}#sk-container-id-2 div.sk-serial {display: flex;flex-direction: column;align-items: center;background-color: white;padding-right: 0.2em;padding-left: 0.2em;position: relative;}#sk-container-id-2 div.sk-item {position: relative;z-index: 1;}#sk-container-id-2 div.sk-parallel {display: flex;align-items: stretch;justify-content: center;background-color: white;position: relative;}#sk-container-id-2 div.sk-item::before, #sk-container-id-2 div.sk-parallel-item::before {content: \"\";position: absolute;border-left: 1px solid gray;box-sizing: border-box;top: 0;bottom: 0;left: 50%;z-index: -1;}#sk-container-id-2 div.sk-parallel-item {display: flex;flex-direction: column;z-index: 1;position: relative;background-color: white;}#sk-container-id-2 div.sk-parallel-item:first-child::after {align-self: flex-end;width: 50%;}#sk-container-id-2 div.sk-parallel-item:last-child::after {align-self: flex-start;width: 50%;}#sk-container-id-2 div.sk-parallel-item:only-child::after {width: 0;}#sk-container-id-2 div.sk-dashed-wrapped {border: 1px dashed gray;margin: 0 0.4em 0.5em 0.4em;box-sizing: border-box;padding-bottom: 0.4em;background-color: white;}#sk-container-id-2 div.sk-label label {font-family: monospace;font-weight: bold;display: inline-block;line-height: 1.2em;}#sk-container-id-2 div.sk-label-container {text-align: center;}#sk-container-id-2 div.sk-container {/* jupyter's `normalize.less` sets `[hidden] { display: none; }` but bootstrap.min.css set `[hidden] { display: none !important; }` so we also need the `!important` here to be able to override the default hidden behavior on the sphinx rendered scikit-learn.org. See: https://github.com/scikit-learn/scikit-learn/issues/21755 */display: inline-block !important;position: relative;}#sk-container-id-2 div.sk-text-repr-fallback {display: none;}</style><div id=\"sk-container-id-2\" class=\"sk-top-container\"><div class=\"sk-text-repr-fallback\"><pre>GridSearchCV(cv=10,\n",
       "             estimator=XGBClassifier(base_score=None, booster=None,\n",
       "                                     callbacks=None, colsample_bylevel=None,\n",
       "                                     colsample_bynode=None,\n",
       "                                     colsample_bytree=None, device=None,\n",
       "                                     early_stopping_rounds=None,\n",
       "                                     enable_categorical=False, eval_metric=None,\n",
       "                                     feature_types=None, gamma=None,\n",
       "                                     grow_policy=None, importance_type=None,\n",
       "                                     interaction_constraints=None,\n",
       "                                     learning_rate=None...\n",
       "                                     max_cat_to_onehot=None,\n",
       "                                     max_delta_step=None, max_depth=None,\n",
       "                                     max_leaves=None, min_child_weight=None,\n",
       "                                     missing=nan, monotone_constraints=None,\n",
       "                                     multi_strategy=None, n_estimators=None,\n",
       "                                     n_jobs=None, num_parallel_tree=None,\n",
       "                                     random_state=42, ...),\n",
       "             param_grid={&#x27;learning_rate&#x27;: [0.1, 0.01, 0.001],\n",
       "                         &#x27;max_depth&#x27;: [3, 5, 7],\n",
       "                         &#x27;n_estimators&#x27;: [50, 100, 150, 200],\n",
       "                         &#x27;subsample&#x27;: [0.5, 0.7, 1]})</pre><b>In a Jupyter environment, please rerun this cell to show the HTML representation or trust the notebook. <br />On GitHub, the HTML representation is unable to render, please try loading this page with nbviewer.org.</b></div><div class=\"sk-container\" hidden><div class=\"sk-item sk-dashed-wrapped\"><div class=\"sk-label-container\"><div class=\"sk-label sk-toggleable\"><input class=\"sk-toggleable__control sk-hidden--visually\" id=\"sk-estimator-id-4\" type=\"checkbox\" ><label for=\"sk-estimator-id-4\" class=\"sk-toggleable__label sk-toggleable__label-arrow\">GridSearchCV</label><div class=\"sk-toggleable__content\"><pre>GridSearchCV(cv=10,\n",
       "             estimator=XGBClassifier(base_score=None, booster=None,\n",
       "                                     callbacks=None, colsample_bylevel=None,\n",
       "                                     colsample_bynode=None,\n",
       "                                     colsample_bytree=None, device=None,\n",
       "                                     early_stopping_rounds=None,\n",
       "                                     enable_categorical=False, eval_metric=None,\n",
       "                                     feature_types=None, gamma=None,\n",
       "                                     grow_policy=None, importance_type=None,\n",
       "                                     interaction_constraints=None,\n",
       "                                     learning_rate=None...\n",
       "                                     max_cat_to_onehot=None,\n",
       "                                     max_delta_step=None, max_depth=None,\n",
       "                                     max_leaves=None, min_child_weight=None,\n",
       "                                     missing=nan, monotone_constraints=None,\n",
       "                                     multi_strategy=None, n_estimators=None,\n",
       "                                     n_jobs=None, num_parallel_tree=None,\n",
       "                                     random_state=42, ...),\n",
       "             param_grid={&#x27;learning_rate&#x27;: [0.1, 0.01, 0.001],\n",
       "                         &#x27;max_depth&#x27;: [3, 5, 7],\n",
       "                         &#x27;n_estimators&#x27;: [50, 100, 150, 200],\n",
       "                         &#x27;subsample&#x27;: [0.5, 0.7, 1]})</pre></div></div></div><div class=\"sk-parallel\"><div class=\"sk-parallel-item\"><div class=\"sk-item\"><div class=\"sk-label-container\"><div class=\"sk-label sk-toggleable\"><input class=\"sk-toggleable__control sk-hidden--visually\" id=\"sk-estimator-id-5\" type=\"checkbox\" ><label for=\"sk-estimator-id-5\" class=\"sk-toggleable__label sk-toggleable__label-arrow\">estimator: XGBClassifier</label><div class=\"sk-toggleable__content\"><pre>XGBClassifier(base_score=None, booster=None, callbacks=None,\n",
       "              colsample_bylevel=None, colsample_bynode=None,\n",
       "              colsample_bytree=None, device=None, early_stopping_rounds=None,\n",
       "              enable_categorical=False, eval_metric=None, feature_types=None,\n",
       "              gamma=None, grow_policy=None, importance_type=None,\n",
       "              interaction_constraints=None, learning_rate=None, max_bin=None,\n",
       "              max_cat_threshold=None, max_cat_to_onehot=None,\n",
       "              max_delta_step=None, max_depth=None, max_leaves=None,\n",
       "              min_child_weight=None, missing=nan, monotone_constraints=None,\n",
       "              multi_strategy=None, n_estimators=None, n_jobs=None,\n",
       "              num_parallel_tree=None, random_state=42, ...)</pre></div></div></div><div class=\"sk-serial\"><div class=\"sk-item\"><div class=\"sk-estimator sk-toggleable\"><input class=\"sk-toggleable__control sk-hidden--visually\" id=\"sk-estimator-id-6\" type=\"checkbox\" ><label for=\"sk-estimator-id-6\" class=\"sk-toggleable__label sk-toggleable__label-arrow\">XGBClassifier</label><div class=\"sk-toggleable__content\"><pre>XGBClassifier(base_score=None, booster=None, callbacks=None,\n",
       "              colsample_bylevel=None, colsample_bynode=None,\n",
       "              colsample_bytree=None, device=None, early_stopping_rounds=None,\n",
       "              enable_categorical=False, eval_metric=None, feature_types=None,\n",
       "              gamma=None, grow_policy=None, importance_type=None,\n",
       "              interaction_constraints=None, learning_rate=None, max_bin=None,\n",
       "              max_cat_threshold=None, max_cat_to_onehot=None,\n",
       "              max_delta_step=None, max_depth=None, max_leaves=None,\n",
       "              min_child_weight=None, missing=nan, monotone_constraints=None,\n",
       "              multi_strategy=None, n_estimators=None, n_jobs=None,\n",
       "              num_parallel_tree=None, random_state=42, ...)</pre></div></div></div></div></div></div></div></div></div></div>"
      ],
      "text/plain": [
       "GridSearchCV(cv=10,\n",
       "             estimator=XGBClassifier(base_score=None, booster=None,\n",
       "                                     callbacks=None, colsample_bylevel=None,\n",
       "                                     colsample_bynode=None,\n",
       "                                     colsample_bytree=None, device=None,\n",
       "                                     early_stopping_rounds=None,\n",
       "                                     enable_categorical=False, eval_metric=None,\n",
       "                                     feature_types=None, gamma=None,\n",
       "                                     grow_policy=None, importance_type=None,\n",
       "                                     interaction_constraints=None,\n",
       "                                     learning_rate=None...\n",
       "                                     max_cat_to_onehot=None,\n",
       "                                     max_delta_step=None, max_depth=None,\n",
       "                                     max_leaves=None, min_child_weight=None,\n",
       "                                     missing=nan, monotone_constraints=None,\n",
       "                                     multi_strategy=None, n_estimators=None,\n",
       "                                     n_jobs=None, num_parallel_tree=None,\n",
       "                                     random_state=42, ...),\n",
       "             param_grid={'learning_rate': [0.1, 0.01, 0.001],\n",
       "                         'max_depth': [3, 5, 7],\n",
       "                         'n_estimators': [50, 100, 150, 200],\n",
       "                         'subsample': [0.5, 0.7, 1]})"
      ]
     },
     "execution_count": 221,
     "metadata": {},
     "output_type": "execute_result"
    }
   ],
   "source": [
    "xgb_classifier = XGBClassifier(random_state=42)\n",
    "\n",
    "grid_search = GridSearchCV(xgb_classifier, param_grid, cv=10, refit=True)\n",
    "grid_search.fit(xgb_X_train, xgb_y_train)"
   ]
  },
  {
   "cell_type": "code",
   "execution_count": 223,
   "metadata": {},
   "outputs": [
    {
     "name": "stdout",
     "output_type": "stream",
     "text": [
      "{'learning_rate': 0.1, 'max_depth': 3, 'n_estimators': 200, 'subsample': 1}\n"
     ]
    }
   ],
   "source": [
    "refined_xgb_model = grid_search.best_estimator_\n",
    "refined_xgb_params = grid_search.best_params_\n",
    "print(refined_xgb_params)\n"
   ]
  },
  {
   "cell_type": "code",
   "execution_count": 226,
   "metadata": {},
   "outputs": [
    {
     "name": "stdout",
     "output_type": "stream",
     "text": [
      "Accuracy: 77.83%\n"
     ]
    }
   ],
   "source": [
    "refined_xgb_model.fit(xgb_X_train, xgb_y_train)\n",
    "xgb_y_pred_refined = refined_xgb_model.predict(X_val)\n",
    "accuracy = accuracy_score(y_val, xgb_y_pred_refined)\n",
    "print(f\"Accuracy: {accuracy * 100:.2f}%\")"
   ]
  },
  {
   "cell_type": "markdown",
   "metadata": {},
   "source": [
    "Second round of Grid Search to further Optimize"
   ]
  },
  {
   "cell_type": "code",
   "execution_count": 229,
   "metadata": {},
   "outputs": [
    {
     "data": {
      "text/html": [
       "<style>#sk-container-id-3 {color: black;}#sk-container-id-3 pre{padding: 0;}#sk-container-id-3 div.sk-toggleable {background-color: white;}#sk-container-id-3 label.sk-toggleable__label {cursor: pointer;display: block;width: 100%;margin-bottom: 0;padding: 0.3em;box-sizing: border-box;text-align: center;}#sk-container-id-3 label.sk-toggleable__label-arrow:before {content: \"▸\";float: left;margin-right: 0.25em;color: #696969;}#sk-container-id-3 label.sk-toggleable__label-arrow:hover:before {color: black;}#sk-container-id-3 div.sk-estimator:hover label.sk-toggleable__label-arrow:before {color: black;}#sk-container-id-3 div.sk-toggleable__content {max-height: 0;max-width: 0;overflow: hidden;text-align: left;background-color: #f0f8ff;}#sk-container-id-3 div.sk-toggleable__content pre {margin: 0.2em;color: black;border-radius: 0.25em;background-color: #f0f8ff;}#sk-container-id-3 input.sk-toggleable__control:checked~div.sk-toggleable__content {max-height: 200px;max-width: 100%;overflow: auto;}#sk-container-id-3 input.sk-toggleable__control:checked~label.sk-toggleable__label-arrow:before {content: \"▾\";}#sk-container-id-3 div.sk-estimator input.sk-toggleable__control:checked~label.sk-toggleable__label {background-color: #d4ebff;}#sk-container-id-3 div.sk-label input.sk-toggleable__control:checked~label.sk-toggleable__label {background-color: #d4ebff;}#sk-container-id-3 input.sk-hidden--visually {border: 0;clip: rect(1px 1px 1px 1px);clip: rect(1px, 1px, 1px, 1px);height: 1px;margin: -1px;overflow: hidden;padding: 0;position: absolute;width: 1px;}#sk-container-id-3 div.sk-estimator {font-family: monospace;background-color: #f0f8ff;border: 1px dotted black;border-radius: 0.25em;box-sizing: border-box;margin-bottom: 0.5em;}#sk-container-id-3 div.sk-estimator:hover {background-color: #d4ebff;}#sk-container-id-3 div.sk-parallel-item::after {content: \"\";width: 100%;border-bottom: 1px solid gray;flex-grow: 1;}#sk-container-id-3 div.sk-label:hover label.sk-toggleable__label {background-color: #d4ebff;}#sk-container-id-3 div.sk-serial::before {content: \"\";position: absolute;border-left: 1px solid gray;box-sizing: border-box;top: 0;bottom: 0;left: 50%;z-index: 0;}#sk-container-id-3 div.sk-serial {display: flex;flex-direction: column;align-items: center;background-color: white;padding-right: 0.2em;padding-left: 0.2em;position: relative;}#sk-container-id-3 div.sk-item {position: relative;z-index: 1;}#sk-container-id-3 div.sk-parallel {display: flex;align-items: stretch;justify-content: center;background-color: white;position: relative;}#sk-container-id-3 div.sk-item::before, #sk-container-id-3 div.sk-parallel-item::before {content: \"\";position: absolute;border-left: 1px solid gray;box-sizing: border-box;top: 0;bottom: 0;left: 50%;z-index: -1;}#sk-container-id-3 div.sk-parallel-item {display: flex;flex-direction: column;z-index: 1;position: relative;background-color: white;}#sk-container-id-3 div.sk-parallel-item:first-child::after {align-self: flex-end;width: 50%;}#sk-container-id-3 div.sk-parallel-item:last-child::after {align-self: flex-start;width: 50%;}#sk-container-id-3 div.sk-parallel-item:only-child::after {width: 0;}#sk-container-id-3 div.sk-dashed-wrapped {border: 1px dashed gray;margin: 0 0.4em 0.5em 0.4em;box-sizing: border-box;padding-bottom: 0.4em;background-color: white;}#sk-container-id-3 div.sk-label label {font-family: monospace;font-weight: bold;display: inline-block;line-height: 1.2em;}#sk-container-id-3 div.sk-label-container {text-align: center;}#sk-container-id-3 div.sk-container {/* jupyter's `normalize.less` sets `[hidden] { display: none; }` but bootstrap.min.css set `[hidden] { display: none !important; }` so we also need the `!important` here to be able to override the default hidden behavior on the sphinx rendered scikit-learn.org. See: https://github.com/scikit-learn/scikit-learn/issues/21755 */display: inline-block !important;position: relative;}#sk-container-id-3 div.sk-text-repr-fallback {display: none;}</style><div id=\"sk-container-id-3\" class=\"sk-top-container\"><div class=\"sk-text-repr-fallback\"><pre>GridSearchCV(cv=10,\n",
       "             estimator=XGBClassifier(base_score=None, booster=None,\n",
       "                                     callbacks=None, colsample_bylevel=None,\n",
       "                                     colsample_bynode=None,\n",
       "                                     colsample_bytree=None, device=None,\n",
       "                                     early_stopping_rounds=None,\n",
       "                                     enable_categorical=False, eval_metric=None,\n",
       "                                     feature_types=None, gamma=None,\n",
       "                                     grow_policy=None, importance_type=None,\n",
       "                                     interaction_constraints=None,\n",
       "                                     learning_rate=None...\n",
       "                                     max_cat_threshold=None,\n",
       "                                     max_cat_to_onehot=None,\n",
       "                                     max_delta_step=None, max_depth=None,\n",
       "                                     max_leaves=None, min_child_weight=None,\n",
       "                                     missing=nan, monotone_constraints=None,\n",
       "                                     multi_strategy=None, n_estimators=None,\n",
       "                                     n_jobs=None, num_parallel_tree=None,\n",
       "                                     random_state=42, ...),\n",
       "             param_grid={&#x27;learning_rate&#x27;: [0.05, 0.1], &#x27;max_depth&#x27;: [1, 2, 3],\n",
       "                         &#x27;n_estimators&#x27;: [200, 250, 300],\n",
       "                         &#x27;subsample&#x27;: [1, 1.5, 2]})</pre><b>In a Jupyter environment, please rerun this cell to show the HTML representation or trust the notebook. <br />On GitHub, the HTML representation is unable to render, please try loading this page with nbviewer.org.</b></div><div class=\"sk-container\" hidden><div class=\"sk-item sk-dashed-wrapped\"><div class=\"sk-label-container\"><div class=\"sk-label sk-toggleable\"><input class=\"sk-toggleable__control sk-hidden--visually\" id=\"sk-estimator-id-7\" type=\"checkbox\" ><label for=\"sk-estimator-id-7\" class=\"sk-toggleable__label sk-toggleable__label-arrow\">GridSearchCV</label><div class=\"sk-toggleable__content\"><pre>GridSearchCV(cv=10,\n",
       "             estimator=XGBClassifier(base_score=None, booster=None,\n",
       "                                     callbacks=None, colsample_bylevel=None,\n",
       "                                     colsample_bynode=None,\n",
       "                                     colsample_bytree=None, device=None,\n",
       "                                     early_stopping_rounds=None,\n",
       "                                     enable_categorical=False, eval_metric=None,\n",
       "                                     feature_types=None, gamma=None,\n",
       "                                     grow_policy=None, importance_type=None,\n",
       "                                     interaction_constraints=None,\n",
       "                                     learning_rate=None...\n",
       "                                     max_cat_threshold=None,\n",
       "                                     max_cat_to_onehot=None,\n",
       "                                     max_delta_step=None, max_depth=None,\n",
       "                                     max_leaves=None, min_child_weight=None,\n",
       "                                     missing=nan, monotone_constraints=None,\n",
       "                                     multi_strategy=None, n_estimators=None,\n",
       "                                     n_jobs=None, num_parallel_tree=None,\n",
       "                                     random_state=42, ...),\n",
       "             param_grid={&#x27;learning_rate&#x27;: [0.05, 0.1], &#x27;max_depth&#x27;: [1, 2, 3],\n",
       "                         &#x27;n_estimators&#x27;: [200, 250, 300],\n",
       "                         &#x27;subsample&#x27;: [1, 1.5, 2]})</pre></div></div></div><div class=\"sk-parallel\"><div class=\"sk-parallel-item\"><div class=\"sk-item\"><div class=\"sk-label-container\"><div class=\"sk-label sk-toggleable\"><input class=\"sk-toggleable__control sk-hidden--visually\" id=\"sk-estimator-id-8\" type=\"checkbox\" ><label for=\"sk-estimator-id-8\" class=\"sk-toggleable__label sk-toggleable__label-arrow\">estimator: XGBClassifier</label><div class=\"sk-toggleable__content\"><pre>XGBClassifier(base_score=None, booster=None, callbacks=None,\n",
       "              colsample_bylevel=None, colsample_bynode=None,\n",
       "              colsample_bytree=None, device=None, early_stopping_rounds=None,\n",
       "              enable_categorical=False, eval_metric=None, feature_types=None,\n",
       "              gamma=None, grow_policy=None, importance_type=None,\n",
       "              interaction_constraints=None, learning_rate=None, max_bin=None,\n",
       "              max_cat_threshold=None, max_cat_to_onehot=None,\n",
       "              max_delta_step=None, max_depth=None, max_leaves=None,\n",
       "              min_child_weight=None, missing=nan, monotone_constraints=None,\n",
       "              multi_strategy=None, n_estimators=None, n_jobs=None,\n",
       "              num_parallel_tree=None, random_state=42, ...)</pre></div></div></div><div class=\"sk-serial\"><div class=\"sk-item\"><div class=\"sk-estimator sk-toggleable\"><input class=\"sk-toggleable__control sk-hidden--visually\" id=\"sk-estimator-id-9\" type=\"checkbox\" ><label for=\"sk-estimator-id-9\" class=\"sk-toggleable__label sk-toggleable__label-arrow\">XGBClassifier</label><div class=\"sk-toggleable__content\"><pre>XGBClassifier(base_score=None, booster=None, callbacks=None,\n",
       "              colsample_bylevel=None, colsample_bynode=None,\n",
       "              colsample_bytree=None, device=None, early_stopping_rounds=None,\n",
       "              enable_categorical=False, eval_metric=None, feature_types=None,\n",
       "              gamma=None, grow_policy=None, importance_type=None,\n",
       "              interaction_constraints=None, learning_rate=None, max_bin=None,\n",
       "              max_cat_threshold=None, max_cat_to_onehot=None,\n",
       "              max_delta_step=None, max_depth=None, max_leaves=None,\n",
       "              min_child_weight=None, missing=nan, monotone_constraints=None,\n",
       "              multi_strategy=None, n_estimators=None, n_jobs=None,\n",
       "              num_parallel_tree=None, random_state=42, ...)</pre></div></div></div></div></div></div></div></div></div></div>"
      ],
      "text/plain": [
       "GridSearchCV(cv=10,\n",
       "             estimator=XGBClassifier(base_score=None, booster=None,\n",
       "                                     callbacks=None, colsample_bylevel=None,\n",
       "                                     colsample_bynode=None,\n",
       "                                     colsample_bytree=None, device=None,\n",
       "                                     early_stopping_rounds=None,\n",
       "                                     enable_categorical=False, eval_metric=None,\n",
       "                                     feature_types=None, gamma=None,\n",
       "                                     grow_policy=None, importance_type=None,\n",
       "                                     interaction_constraints=None,\n",
       "                                     learning_rate=None...\n",
       "                                     max_cat_threshold=None,\n",
       "                                     max_cat_to_onehot=None,\n",
       "                                     max_delta_step=None, max_depth=None,\n",
       "                                     max_leaves=None, min_child_weight=None,\n",
       "                                     missing=nan, monotone_constraints=None,\n",
       "                                     multi_strategy=None, n_estimators=None,\n",
       "                                     n_jobs=None, num_parallel_tree=None,\n",
       "                                     random_state=42, ...),\n",
       "             param_grid={'learning_rate': [0.05, 0.1], 'max_depth': [1, 2, 3],\n",
       "                         'n_estimators': [200, 250, 300],\n",
       "                         'subsample': [1, 1.5, 2]})"
      ]
     },
     "execution_count": 229,
     "metadata": {},
     "output_type": "execute_result"
    }
   ],
   "source": [
    "param_grid = {\n",
    "    'n_estimators': [200, 250, 300],\n",
    "    'max_depth': [1, 2, 3],\n",
    "    'subsample': [1, 1.5, 2],\n",
    "    'learning_rate': [0.05, 0.1]\n",
    "    }\n",
    "\n",
    "grid_search = GridSearchCV(xgb_classifier, param_grid, cv=10, refit=True)\n",
    "grid_search.fit(xgb_X_train, xgb_y_train)"
   ]
  },
  {
   "cell_type": "code",
   "execution_count": 230,
   "metadata": {},
   "outputs": [
    {
     "name": "stdout",
     "output_type": "stream",
     "text": [
      "{'learning_rate': 0.1, 'max_depth': 3, 'n_estimators': 200, 'subsample': 1}\n",
      "Accuracy: 77.83%\n"
     ]
    }
   ],
   "source": [
    "# Print params of best model\n",
    "best_xgb_model = grid_search.best_estimator_\n",
    "best_xgb_params = grid_search.best_params_\n",
    "print(best_xgb_params)\n",
    "\n",
    "# Validation Accuracy\n",
    "best_xgb_model.fit(xgb_X_train, xgb_y_train)\n",
    "xgb_y_pred_best = best_xgb_model.predict(X_val)\n",
    "accuracy = accuracy_score(y_val, xgb_y_pred_best)\n",
    "print(f\"Accuracy: {accuracy * 100:.2f}%\")"
   ]
  },
  {
   "cell_type": "code",
   "execution_count": 231,
   "metadata": {},
   "outputs": [
    {
     "name": "stdout",
     "output_type": "stream",
     "text": [
      "Accuracy: 76.30%\n"
     ]
    }
   ],
   "source": [
    "# Final Test Accuracy\n",
    "best_xgb_model.fit(xgb_X_train, xgb_y_train)\n",
    "xgb_y_pred_best = best_xgb_model.predict(X_test)\n",
    "accuracy = accuracy_score(y_test, xgb_y_pred_best)\n",
    "print(f\"Accuracy: {accuracy * 100:.2f}%\")"
   ]
  },
  {
   "cell_type": "markdown",
   "metadata": {},
   "source": [
    "### Results - XGBoost Model\n",
    "#### Training Result:\n",
    "* Scaling numerical data had no affect on XGBoost performance\n",
    "* Target encoding cardinal features had no effect on XGBoost performance\n",
    "* Reranking ordinal features in a more logical way had no effect on XGBoost performance\n",
    "* One hot encoding had a negative effect on XGBoost memory usage\n",
    "* Hyperparameter tuning was completed two times to determine best values in a successively concentrated range. These were determined to be:\n",
    "    * 'learning_rate': 0.1\n",
    "    * 'max_depth': 3\n",
    "    * 'n_estimators': 200\n",
    "    * 'subsample': 1\n",
    "* SMOTE resampling resulted in an overfit model\n",
    "* Feature selection using feature importances failed to improve the model\n",
    "* Default model performance boasts `77.83%` accuracy on training data\n",
    "\n",
    "#### Testing Result\n",
    "The final result was `76.30%` which shows that the model generalizes well!"
   ]
  },
  {
   "cell_type": "markdown",
   "metadata": {},
   "source": [
    "### Conclusion\n",
    "After extensive testing the default model with a small adjustment to hyperparameters proved to be the best model. This can be used to predict student outcomes with moderate success! Academic advisors should use it to identify at-risk students and work with them proactively to provide additional resources and support."
   ]
  },
  {
   "cell_type": "markdown",
   "metadata": {},
   "source": [
    "### Appendix\n",
    "Medium: https://medium.com/@rithpansanga/optimizing-xgboost-a-guide-to-hyperparameter-tuning-77b6e48e289d"
   ]
  }
 ],
 "metadata": {
  "kernelspec": {
   "display_name": "Cohort_Env",
   "language": "python",
   "name": "python3"
  },
  "language_info": {
   "codemirror_mode": {
    "name": "ipython",
    "version": 3
   },
   "file_extension": ".py",
   "mimetype": "text/x-python",
   "name": "python",
   "nbconvert_exporter": "python",
   "pygments_lexer": "ipython3",
   "version": "3.8.19"
  }
 },
 "nbformat": 4,
 "nbformat_minor": 2
}
